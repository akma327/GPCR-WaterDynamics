{
 "cells": [
  {
   "cell_type": "code",
   "execution_count": 173,
   "metadata": {
    "collapsed": true
   },
   "outputs": [],
   "source": [
    "import glob\n",
    "import numpy as np\n",
    "import seaborn as sns\n",
    "import collections\n",
    "import matplotlib.pyplot as plt\n",
    "\n",
    "%matplotlib inline"
   ]
  },
  {
   "cell_type": "code",
   "execution_count": 174,
   "metadata": {
    "collapsed": true
   },
   "outputs": [],
   "source": [
    "# Utils\n",
    "\n",
    "PDB_TO_UNIPROT_TABLE_PATH = \"/scratch/PI/rondror/akma327/DynamicNetworks/data/crystal-analysis/simulation-analysis/gpcrdb-freq-config/GPCR_PDB_List.txt\"\n",
    "GPCRDB_TABLE_PATH=\"/scratch/PI/rondror/akma327/DynamicNetworks/data/crystal-analysis/simulation-analysis/gpcrdb-freq-config/All_species_gpcrdb_numbers_strOnly.txt\"\n",
    "\n",
    "\n",
    "# Rename amino acids to common name\n",
    "def fixAminoAcidNames(key):\n",
    "\tkey = key.replace(\"HSD\", \"HIS\")\n",
    "\tkey = key.replace(\"HSE\", \"HIS\")\n",
    "\tkey = key.replace(\"HSP\", \"HIS\")\n",
    "\tkey = key.replace(\"HIE\", \"HIS\")\n",
    "\tkey = key.replace(\"HIP\", \"HIS\")\n",
    "\tkey = key.replace(\"HID\", \"HIS\")\n",
    "\tkey = key.replace(\"GLH\", \"GLU\")\n",
    "\tkey = key.replace(\"ASH\", \"ASP\")\n",
    "\tkey = key.replace(\"CYP\", \"CYS\")\n",
    "\tkey = key.replace(\"CYX\", \"CYS\")\n",
    "\treturn key\n",
    "\n",
    "def getGPCRDB(res, GPCRDB_DICT):\n",
    "\tres = fixAminoAcidNames(res)\n",
    "\tif(res == \"LIG\"): return \"LIGxLIG\"\n",
    "\tif(res not in GPCRDB_DICT):\n",
    "# \t\tprint(res + \" not found.\")\n",
    "\t\treturn \"None\"\n",
    "\treturn GPCRDB_DICT[res]\n",
    "\n",
    "# Retrieve Uniprot Code for the PDB_CODE from pdb_to_uniprot_table_path\n",
    "def getUniprotCode(PDB_CODE):\n",
    "\tf = open(PDB_TO_UNIPROT_TABLE_PATH, 'r')\n",
    "\tfor line in f:\n",
    "\t\tif(line == \"\\n\"): continue \n",
    "\t\tl_info = line.split(\"\\t\")\n",
    "\t\tuniprot_code, pdb = l_info[0].strip(), l_info[2].strip()\n",
    "\t\tif(PDB_CODE.upper() == pdb.upper()): return uniprot_code.upper()\n",
    "\tprint(\"PDB_CODE Not Found in PDB To Uniprot Table\")\n",
    "\texit(1)\n",
    "\n",
    "\n",
    "# Given uniprot code reads through GPCRDB_TABLE_PATH to generate the amino acid\n",
    "# to gpcrdb number table. \n",
    "# Output {\"ASP112\": \"1x50\", \"ARG116\":\"2x45\"}\n",
    "def genGpcrdbDict(UNIPROT_CODE):\n",
    "\tGPCRDB_DICT = {}\n",
    "\tf = open(GPCRDB_TABLE_PATH, 'r')\n",
    "\tfor line in f: \n",
    "\t\tl_info = line.split(\"\\t\")\n",
    "\t\tuniprot, resnum, resname, gpcrdb = l_info[0].strip(), l_info[1].strip(), l_info[2].strip(), l_info[4].strip()\n",
    "\t\tif(uniprot.upper() == UNIPROT_CODE.upper()):\n",
    "\t\t\tkey = resname.upper() + resnum \n",
    "\t\t\tGPCRDB_DICT[key] = gpcrdb\n",
    "\treturn GPCRDB_DICT\n",
    "\n",
    "\n",
    "# Generates the residue to gpcrdb table for given pdb\n",
    "def genResidueToGpcrdbTable(PDB_CODE):\n",
    "\tUNIPROT_CODE = getUniprotCode(PDB_CODE)\n",
    "\tGPCRDB_DICT = genGpcrdbDict(UNIPROT_CODE)\n",
    "\treturn GPCRDB_DICT\n",
    "\n",
    "\n",
    "\n",
    "\n",
    "def get_sorted_positions(positions):\n",
    "\taa_freq = position_to_conserve_freq()\n",
    "\tpos_to_aa_freq = collections.Counter()\n",
    "\tfor pos in positions:\n",
    "\t\tfreq = aa_freq[pos]\n",
    "\t\tpos_to_aa_freq[pos] = freq \n",
    "\n",
    "\tsorted_pos = [pos for pos, freq in pos_to_aa_freq.most_common()]\n",
    "\treturn sorted_pos"
   ]
  },
  {
   "cell_type": "code",
   "execution_count": 175,
   "metadata": {
    "collapsed": true
   },
   "outputs": [],
   "source": [
    "def get_wet_spots(pdb, fp):\n",
    "    \"\"\"\n",
    "        Take in residue water interaction file and calculate the position of \n",
    "        wet spots. \n",
    "    \"\"\"\n",
    "    \n",
    "    wet_spots = set() # wet spots\n",
    "    GPCRDB_DICT = genResidueToGpcrdbTable(pdb)\n",
    "    f = open(fp, 'r')\n",
    "    for line in f:\n",
    "        atom_pair = line.strip().split(\"@\")[0].split(\" -- \")\n",
    "        residue = \"\"\n",
    "        if(\"HOH\" in atom_pair[0]): residue = atom_pair[1].split(\"-\")[0]\n",
    "        elif(\"HOH\" in atom_pair[1]): residue = atom_pair[0].split(\"-\")[0]\n",
    "        gpcrdb = getGPCRDB(residue, GPCRDB_DICT)\n",
    "        if(gpcrdb != \"None\"):\n",
    "            wet_spots.add(gpcrdb)\n",
    "    return list(wet_spots)\n",
    "        \n",
    "\n",
    "def gen_bit_matrix(pdb_to_wetspots):\n",
    "    \"\"\"\n",
    "        Generate the position to pdb matrix\n",
    "    \"\"\"\n",
    "    union_pos = set()\n",
    "    for pos in pdb_to_wetspots:\n",
    "        union_pos |= set(pdb_to_wetspots[pos])\n",
    "    \n",
    "    sorted_union_pos = get_sorted_positions(list(union_pos))\n",
    "    pdbs = sorted(pdb_to_wetspots.keys())\n",
    "    \n",
    "    ### Generate bit matrix \n",
    "    bit_mat = np.zeros((len(sorted_union_pos), len(pdbs)))\n",
    "    for j, pdb in enumerate(pdbs):\n",
    "        for i, pos in enumerate(sorted_union_pos):\n",
    "            if(pos in pdb_to_wetspots[pdb]):\n",
    "                bit_mat[i][j] = 1\n",
    "    \n",
    "    ### Plot heatmap\n",
    "    ax = sns.heatmap(bit_mat, cmap=\"Reds\")\n",
    "    ax.set_xticklabels(pdbs, rotation=90)\n",
    "    row_labels = [\"\" for a in sorted_union_pos]\n",
    "    ax.set_yticklabels(row_labels)\n",
    "    plt.ylabel(\"Residue Position\")\n",
    "    plt.title(\"High Resolution Class A GPCRs \\nResidue Water Interactions\")\n",
    "    plt.show()\n",
    "    \n",
    "    return bit_mat, sorted_union_pos, pdbs\n",
    "                \n",
    "    \n",
    "\n",
    "def genBitMap(INPUT_DIR):\n",
    "    pdb_to_wetspots = {}\n",
    "    files = sorted(glob.glob(INPUT_DIR + \"/*\"))\n",
    "    for i, fp in enumerate(files):\n",
    "        pdb = fp.strip().split(\"/\")[-1].strip(\".txt\")\n",
    "        wet_spots = get_wet_spots(pdb, fp)\n",
    "        pdb_to_wetspots[pdb] = wet_spots\n",
    "    return gen_bit_matrix(pdb_to_wetspots)\n",
    "    "
   ]
  },
  {
   "cell_type": "code",
   "execution_count": 176,
   "metadata": {
    "collapsed": false
   },
   "outputs": [],
   "source": [
    "def write_output(OUTPUT_FILE, bit_mat, row_labels, col_labels):\n",
    "    \"\"\"\n",
    "        Write out the bit matrix\n",
    "    \"\"\"\n",
    "    f = open(OUTPUT_FILE, 'w')\n",
    "    header = \"GPCRDB\"\n",
    "    for col in col_labels:\n",
    "        header += \"\\t\" + col\n",
    "    f.write(header + \"\\n\")\n",
    "    \n",
    "    ### Write rows \n",
    "    for i, row in enumerate(row_labels):\n",
    "        rinfo = row\n",
    "        for bit in bit_mat[i]:\n",
    "            rinfo += \"\\t\" + str(int(bit))\n",
    "        f.write(rinfo + \"\\n\")\n"
   ]
  },
  {
   "cell_type": "code",
   "execution_count": 177,
   "metadata": {
    "collapsed": false
   },
   "outputs": [],
   "source": [
    "INPUT_DIR_70D=\"/scratch/PI/rondror/akma327/DynamicNetworks/data/crystal-analysis/residue-water-conservation/111916/high_res_crystal_rw_70D\""
   ]
  },
  {
   "cell_type": "code",
   "execution_count": 178,
   "metadata": {
    "collapsed": false
   },
   "outputs": [
    {
     "data": {
      "image/png": "[encoded data removed]",
      "text/plain": [
       "<matplotlib.figure.Figure at 0x7fc74dbca490>"
      ]
     },
     "metadata": {},
     "output_type": "display_data"
    }
   ],
   "source": [
    "### Top row is highest conserve amino acid\n",
    "\n",
    "bit_mat70, row_labels70, col_labels70 = genBitMap(INPUT_DIR_70D)"
   ]
  },
  {
   "cell_type": "code",
   "execution_count": 179,
   "metadata": {
    "collapsed": false
   },
   "outputs": [],
   "source": [
    "OUTPUT_FILE=\"/scratch/PI/rondror/akma327/DynamicNetworks/data/crystal-analysis/residue-water-conservation/111916/tables/high_res_crystal_rw_70D.txt\"\n",
    "write_output(OUTPUT_FILE, bit_mat70, row_labels70, col_labels70)"
   ]
  },
  {
   "cell_type": "code",
   "execution_count": 180,
   "metadata": {
    "collapsed": true
   },
   "outputs": [],
   "source": [
    "INPUT_DIR_NOANG=\"/scratch/PI/rondror/akma327/DynamicNetworks/data/crystal-analysis/residue-water-conservation/111916/high_res_crystal_rw_noang\""
   ]
  },
  {
   "cell_type": "code",
   "execution_count": 181,
   "metadata": {
    "collapsed": false
   },
   "outputs": [
    {
     "data": {
      "image/png": "[encoded data removed]",
      "text/plain": [
       "<matplotlib.figure.Figure at 0x7fc78fea17d0>"
      ]
     },
     "metadata": {},
     "output_type": "display_data"
    }
   ],
   "source": [
    "### Top row is highest conserve amino acid\n",
    "\n",
    "bit_mat_noang, row_labels_noang, col_labels_noang = genBitMap(INPUT_DIR_NOANG)"
   ]
  },
  {
   "cell_type": "code",
   "execution_count": 182,
   "metadata": {
    "collapsed": true
   },
   "outputs": [],
   "source": [
    "OUTPUT_FILE=\"/scratch/PI/rondror/akma327/DynamicNetworks/data/crystal-analysis/residue-water-conservation/111916/tables/high_res_crystal_rw_noang.txt\"\n",
    "write_output(OUTPUT_FILE, bit_mat_noang, row_labels_noang, col_labels_noang)"
   ]
  },
  {
   "cell_type": "code",
   "execution_count": null,
   "metadata": {
    "collapsed": true
   },
   "outputs": [],
   "source": []
  }
 ],
 "metadata": {
  "kernelspec": {
   "display_name": "Python 2",
   "language": "python",
   "name": "python2"
  },
  "language_info": {
   "codemirror_mode": {
    "name": "ipython",
    "version": 2
   },
   "file_extension": ".py",
   "mimetype": "text/x-python",
   "name": "python",
   "nbconvert_exporter": "python",
   "pygments_lexer": "ipython2",
   "version": "2.7.11"
  }
 },
 "nbformat": 4,
 "nbformat_minor": 0
}
