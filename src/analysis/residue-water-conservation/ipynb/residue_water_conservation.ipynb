{
 "cells": [
  {
   "cell_type": "code",
   "execution_count": 2,
   "metadata": {
    "collapsed": true
   },
   "outputs": [],
   "source": [
    "import ast"
   ]
  },
  {
   "cell_type": "code",
   "execution_count": 3,
   "metadata": {
    "collapsed": true
   },
   "outputs": [],
   "source": [
    "# Utils.py\n",
    "\n",
    "PDB_TO_UNIPROT_TABLE_PATH = \"/scratch/PI/rondror/akma327/DynamicNetworks/data/crystal-analysis/simulation-analysis/gpcrdb-freq-config/GPCR_PDB_List.txt\"\n",
    "GPCRDB_TABLE_PATH=\"/scratch/PI/rondror/akma327/DynamicNetworks/data/crystal-analysis/simulation-analysis/gpcrdb-freq-config/All_species_gpcrdb_numbers_strOnly.txt\"\n",
    "GPCRDB_RESIDUE_FREQ_TABLE=\"/scratch/PI/rondror/akma327/DynamicNetworks/data/crystal-analysis/simulation-analysis/gpcrdb-freq-config/gpcrdb_residue_conservation.txt\"\n",
    "\n",
    "\n",
    "# Rename amino acids to common name\n",
    "def fixAminoAcidNames(key):\n",
    "\tkey = key.replace(\"HSD\", \"HIS\")\n",
    "\tkey = key.replace(\"HSE\", \"HIS\")\n",
    "\tkey = key.replace(\"HSP\", \"HIS\")\n",
    "\tkey = key.replace(\"HIE\", \"HIS\")\n",
    "\tkey = key.replace(\"HIP\", \"HIS\")\n",
    "\tkey = key.replace(\"HID\", \"HIS\")\n",
    "\tkey = key.replace(\"GLH\", \"GLU\")\n",
    "\tkey = key.replace(\"ASH\", \"ASP\")\n",
    "\tkey = key.replace(\"CYP\", \"CYS\")\n",
    "\tkey = key.replace(\"CYX\", \"CYS\")\n",
    "\treturn key\n",
    "\n",
    "# Retrive gpcrdb from dictionary for specified residue. Return \"-\" if not found\n",
    "def getGPCRDB(res, GPCRDB_DICT):\n",
    "\tres = fixAminoAcidNames(res)\n",
    "\tif(res not in GPCRDB_DICT):\n",
    "\t\tprint(res + \" not found.\")\n",
    "\t\treturn \"-\"\n",
    "\treturn GPCRDB_DICT[res]\n",
    "\n",
    "# Create directory if not exist\n",
    "def createDirectory(OUTPUT_FILE):\n",
    "\tdirectory = os.path.dirname(OUTPUT_FILE)\n",
    "\tif not os.path.exists(directory):\n",
    "\t\tos.makedirs(directory)\n",
    "\n",
    "# Generate write file descriptor \n",
    "def genWriteDescriptor(OUTPUT_FILE):\n",
    "\tcreateDirectory(OUTPUT_FILE)\n",
    "\treturn open(OUTPUT_FILE, 'w')\n",
    "\n",
    "\n",
    "# Retrieve Uniprot Code for the PDB_CODE from pdb_to_uniprot_table_path\n",
    "def getUniprotCode(PDB_CODE):\n",
    "\tf = open(PDB_TO_UNIPROT_TABLE_PATH, 'r')\n",
    "\tfor line in f:\n",
    "\t\tif(line == \"\\n\"): continue \n",
    "\t\tl_info = line.split(\"\\t\")\n",
    "\t\tuniprot_code, pdb = l_info[0].strip(), l_info[2].strip()\n",
    "\t\tif(PDB_CODE.upper() == pdb.upper()): return uniprot_code.upper()\n",
    "\tprint(\"PDB_CODE Not Found in PDB To Uniprot Table\")\n",
    "\texit(1)\n",
    "\n",
    "\n",
    "# Given uniprot code reads through GPCRDB_TABLE_PATH to generate the amino acid\n",
    "# to gpcrdb number table. \n",
    "# Output {\"ASP112\": \"1x50\", \"ARG116\":\"2x45\"}\n",
    "def genGpcrdbDict(UNIPROT_CODE):\n",
    "\tGPCRDB_DICT = {}\n",
    "\tf = open(GPCRDB_TABLE_PATH, 'r')\n",
    "\tfor line in f: \n",
    "\t\tl_info = line.split(\"\\t\")\n",
    "\t\tuniprot, resnum, resname, gpcrdb = l_info[0].strip(), l_info[1].strip(), l_info[2].strip(), l_info[4].strip()\n",
    "\t\tif(uniprot.upper() == UNIPROT_CODE.upper()):\n",
    "\t\t\tkey = resname.upper() + resnum \n",
    "\t\t\tGPCRDB_DICT[key] = gpcrdb\n",
    "\treturn GPCRDB_DICT\n",
    "\n",
    "\n",
    "# Generates the residue to gpcrdb table for given pdb\n",
    "def genResidueToGpcrdbTable(PDB_CODE):\n",
    "\tUNIPROT_CODE = getUniprotCode(PDB_CODE)\n",
    "\tGPCRDB_DICT = genGpcrdbDict(UNIPROT_CODE)\n",
    "\treturn GPCRDB_DICT\n"
   ]
  },
  {
   "cell_type": "code",
   "execution_count": 4,
   "metadata": {
    "collapsed": true
   },
   "outputs": [],
   "source": [
    "mor_active_dict_path = \"/scratch/PI/rondror/akma327/DynamicNetworks/data/DynamicNetworksOutput/InteractionOutputDictionary/MOR-inactive-bFNA-nature2015/condition-bFNA-bound/rep_1/050516_NONHB_DEFAULT_HB_3.5_70/residue_water_hydrogen_bond_result_dict.txt\""
   ]
  },
  {
   "cell_type": "code",
   "execution_count": 25,
   "metadata": {
    "collapsed": false,
    "scrolled": false
   },
   "outputs": [
    {
     "ename": "KeyError",
     "evalue": "' ALA168'",
     "output_type": "error",
     "traceback": [
      "\u001b[1;31m---------------------------------------------------------------------------\u001b[0m",
      "\u001b[1;31mKeyError\u001b[0m                                  Traceback (most recent call last)",
      "\u001b[1;32m<ipython-input-25-3dd3ab8a5123>\u001b[0m in \u001b[0;36m<module>\u001b[1;34m()\u001b[0m\n\u001b[0;32m     22\u001b[0m \u001b[1;31m#         aa_info = linfo[0].split(\"--\")[0].split(\"-\")[0]\u001b[0m\u001b[1;33m\u001b[0m\u001b[1;33m\u001b[0m\u001b[0m\n\u001b[0;32m     23\u001b[0m         \u001b[1;32mif\u001b[0m\u001b[1;33m(\u001b[0m\u001b[1;34m\"HOH\"\u001b[0m \u001b[1;32min\u001b[0m \u001b[0maa_info\u001b[0m\u001b[1;33m)\u001b[0m\u001b[1;33m:\u001b[0m \u001b[1;32mprint\u001b[0m\u001b[1;33m(\u001b[0m\u001b[0mlinfo\u001b[0m\u001b[1;33m[\u001b[0m\u001b[1;36m0\u001b[0m\u001b[1;33m]\u001b[0m\u001b[1;33m)\u001b[0m\u001b[1;33m\u001b[0m\u001b[0m\n\u001b[1;32m---> 24\u001b[1;33m         \u001b[0mgpcr_db\u001b[0m \u001b[1;33m=\u001b[0m \u001b[0mGPCRDB_DICT\u001b[0m\u001b[1;33m[\u001b[0m\u001b[0maa_info\u001b[0m\u001b[1;33m]\u001b[0m\u001b[1;33m\u001b[0m\u001b[0m\n\u001b[0m\u001b[0;32m     25\u001b[0m         \u001b[1;32mif\u001b[0m \u001b[1;33m(\u001b[0m\u001b[0mgpcr_db\u001b[0m \u001b[1;32mnot\u001b[0m \u001b[1;32min\u001b[0m \u001b[0mpos_to_tp\u001b[0m\u001b[1;33m)\u001b[0m\u001b[1;33m:\u001b[0m\u001b[1;33m\u001b[0m\u001b[0m\n\u001b[0;32m     26\u001b[0m             \u001b[0mpos_to_tp\u001b[0m\u001b[1;33m[\u001b[0m\u001b[0mgpcr_db\u001b[0m\u001b[1;33m]\u001b[0m \u001b[1;33m=\u001b[0m \u001b[0mset\u001b[0m\u001b[1;33m(\u001b[0m\u001b[1;33m)\u001b[0m\u001b[1;33m\u001b[0m\u001b[0m\n",
      "\u001b[1;31mKeyError\u001b[0m: ' ALA168'"
     ]
    }
   ],
   "source": [
    "GPCRDB_DICT = genResidueToGpcrdbTable(\"4DKL\")\n",
    "\n",
    "f = open(mor_active_dict_path, 'r')\n",
    "nFrames = 0\n",
    "count = 0\n",
    "pos_to_tp = {}\n",
    "for line in f:\n",
    "    count +=1 \n",
    "#     if(count > 50000): break\n",
    "    if(\"TotalFrames\" in line):\n",
    "        nFrames = int(line.split(\":\")[1].strip())\n",
    "    elif(\"--\" in line):\n",
    "        linfo = line.strip().split(\"~\")\n",
    "        tp = ast.literal_eval(linfo[1])\n",
    "        aa_info = linfo[0].split(\"--\")[0].split(\"-\")[0]\n",
    "        water = linfo[0].split(\"--\")[1].split(\"-\")[0]\n",
    "        if(\"HOH\" in aa_info):\n",
    "            temp = water \n",
    "            water = aa_info\n",
    "            aa_info = temp\n",
    "        \n",
    "#         aa_info = linfo[0].split(\"--\")[0].split(\"-\")[0]\n",
    "        if(\"HOH\" in aa_info): print(linfo[0])\n",
    "        gpcr_db = GPCRDB_DICT[aa_info]\n",
    "        if (gpcr_db not in pos_to_tp):\n",
    "            pos_to_tp[gpcr_db] = set()\n",
    "        pos_to_tp[gpcr_db] |= set(tp)\n",
    "        \n",
    "for pos in sorted(pos_to_tp.keys()):\n",
    "    freq = float(len(pos_to_tp[pos]))/nFrames\n",
    "    print(\"%s : %f\" % (pos, freq))\n",
    "        "
   ]
  },
  {
   "cell_type": "code",
   "execution_count": null,
   "metadata": {
    "collapsed": true
   },
   "outputs": [],
   "source": [
    "res_conserve_table = \"/scratch/PI/rondror/akma327/DynamicNetworks/data/crystal-analysis/simulation-analysis/gpcrdb-freq-config/gpcrdb_residue_conservation.txt\""
   ]
  }
 ],
 "metadata": {
  "kernelspec": {
   "display_name": "Python 2",
   "language": "python",
   "name": "python2"
  },
  "language_info": {
   "codemirror_mode": {
    "name": "ipython",
    "version": 2
   },
   "file_extension": ".py",
   "mimetype": "text/x-python",
   "name": "python",
   "nbconvert_exporter": "python",
   "pygments_lexer": "ipython2",
   "version": "2.7.11"
  }
 },
 "nbformat": 4,
 "nbformat_minor": 0
}
