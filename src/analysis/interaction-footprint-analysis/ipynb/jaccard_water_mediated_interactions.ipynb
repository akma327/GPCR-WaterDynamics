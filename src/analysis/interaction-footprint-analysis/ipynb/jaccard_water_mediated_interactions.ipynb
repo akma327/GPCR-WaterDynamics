{
 "cells": [
  {
   "cell_type": "code",
   "execution_count": 1,
   "metadata": {
    "collapsed": true
   },
   "outputs": [],
   "source": [
    "import matplotlib.pyplot as plt\n",
    "import os \n",
    "import sys \n",
    "import csv\n",
    "import numpy as np\n",
    "import seaborn as sns\n",
    "import pandas as pd\n",
    "from matplotlib.backends.backend_pdf import PdfPages\n",
    "\n",
    "%matplotlib inline"
   ]
  },
  {
   "cell_type": "code",
   "execution_count": 63,
   "metadata": {
    "collapsed": false
   },
   "outputs": [],
   "source": [
    "THRESHOLD = 0.80\n",
    "\n",
    "\n",
    "def extract_high_freq_interactions(table_path):\n",
    "    data = []\n",
    "    with open(table_path, 'rU') as f:\n",
    "        reader = csv.reader(f, delimiter=\"\\t\")\n",
    "        d = list(reader)\n",
    "    darr = np.array(d)\n",
    "    column_labels = list(darr[0,:])\n",
    "    \n",
    "    ### For each experiment condition column\n",
    "    i = 0\n",
    "    for i, exp_cond in enumerate(darr[0,:][1:]):\n",
    "        if(i == 4 or i == 5):\n",
    "#         if(i > 1): continue ### Active Simulations\n",
    "#         if(i<4):continue ### Inactive Simulations\n",
    "            exp_cond_index = column_labels.index(exp_cond)\n",
    "            high_freq_interaction = []\n",
    "            for row in darr[1:]:\n",
    "                interaction = row[0]\n",
    "                str_freq = row[exp_cond_index]\n",
    "                if(str_freq != \"NA\" and float(str_freq) > THRESHOLD):\n",
    "                    high_freq_interaction.append(interaction)\n",
    "            print(i, exp_cond)\n",
    "            print(sorted(high_freq_interaction))\n",
    "            print(\"\\n\\n\")\n",
    "            data.append(set(high_freq_interaction))\n",
    "    \n",
    "    return data\n",
    "\n",
    "def jaccard(data):\n",
    "    intersect = set(data[0])\n",
    "    union = set()\n",
    "    for exp_cond_interactions in data:\n",
    "        intersect &= exp_cond_interactions\n",
    "        union |= exp_cond_interactions\n",
    "    print(\"intersect\", intersect)\n",
    "    print(\"union\", union)\n",
    "    jaccard_coef = float(len(intersect))/float(len(union))\n",
    "    return jaccard_coef\n",
    "\n",
    "def driver(table_path):\n",
    "    high_freq_interactions = extract_high_freq_interactions(table_path)\n",
    "    jaccard_coef = jaccard(high_freq_interactions)\n",
    "    print(jaccard_coef)"
   ]
  },
  {
   "cell_type": "code",
   "execution_count": 64,
   "metadata": {
    "collapsed": false
   },
   "outputs": [
    {
     "name": "stdout",
     "output_type": "stream",
     "text": [
      "(4, 'B2AR:inactive:carazalol:D79-:D130-')\n",
      "['1x50:2x50', '1x50:7x53', '2x45:3x42', '2x50:3x39', '2x50:7x45', '2x50:7x53', '3x41:4x56', '3x50:6x30', '4x56:5x461', '6x47:6x51', '6x47:7x37', '6x51:7x37', '7x45:7x49']\n",
      "\n",
      "\n",
      "\n",
      "(5, 'M2R:inactive:QNB-orthosteric-no-allosteric:10us')\n",
      "['1x50:2x50', '1x50:7x53', '2x39:3x49', '2x50:3x39', '2x50:7x45', '2x50:7x53', '3x39:7x45', '6x40:7x45', '6x40:7x49', '6x47:6x51', '6x47:7x37', '6x51:7x37', '7x45:7x49']\n",
      "\n",
      "\n",
      "\n",
      "('intersect', set(['6x51:7x37', '1x50:7x53', '1x50:2x50', '2x50:7x45', '2x50:7x53', '6x47:6x51', '6x47:7x37', '7x45:7x49', '2x50:3x39']))\n",
      "('union', set(['6x51:7x37', '1x50:7x53', '1x50:2x50', '2x50:7x45', '2x50:7x53', '3x50:6x30', '6x47:7x37', '3x39:7x45', '2x45:3x42', '2x39:3x49', '2x50:3x39', '3x41:4x56', '6x47:6x51', '6x40:7x45', '6x40:7x49', '7x45:7x49', '4x56:5x461']))\n",
      "0.529411764706\n"
     ]
    }
   ],
   "source": [
    "all_receptor_freqs = \"/scratch/PI/rondror/akma327/DynamicNetworks/results/non-state-decomposition/residue-resolution-combined-rep/022417_union_wb_freq/wb_wb2/all_receptors/joined_receptors_non_state_decomp_residue_resolution_filtered_NA.txt\"\n",
    "driver(all_receptor_freqs)"
   ]
  },
  {
   "cell_type": "code",
   "execution_count": null,
   "metadata": {
    "collapsed": true
   },
   "outputs": [],
   "source": []
  }
 ],
 "metadata": {
  "kernelspec": {
   "display_name": "Python 2",
   "language": "python",
   "name": "python2"
  },
  "language_info": {
   "codemirror_mode": {
    "name": "ipython",
    "version": 2
   },
   "file_extension": ".py",
   "mimetype": "text/x-python",
   "name": "python",
   "nbconvert_exporter": "python",
   "pygments_lexer": "ipython2",
   "version": "2.7.11"
  }
 },
 "nbformat": 4,
 "nbformat_minor": 0
}
