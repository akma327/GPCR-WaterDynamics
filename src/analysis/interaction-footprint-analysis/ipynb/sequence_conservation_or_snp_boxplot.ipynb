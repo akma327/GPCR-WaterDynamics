{
 "cells": [
  {
   "cell_type": "code",
   "execution_count": 1,
   "metadata": {
    "collapsed": true
   },
   "outputs": [],
   "source": [
    "import matplotlib.pyplot as plt\n",
    "import os \n",
    "import sys \n",
    "import csv\n",
    "import numpy as np\n",
    "import seaborn as sns\n",
    "import pandas as pd\n",
    "import scipy\n",
    "from scipy import stats\n",
    "from matplotlib.backends.backend_pdf import PdfPages\n",
    "\n",
    "%matplotlib inline"
   ]
  },
  {
   "cell_type": "code",
   "execution_count": 2,
   "metadata": {
    "collapsed": true
   },
   "outputs": [],
   "source": [
    "USAGE_STR = \"\"\"\n",
    "\n",
    "# Purpose\n",
    "# Compare the distribution of amino acid sequence conservation for residues\n",
    "# that are part of the conserved active or inactive state network versus \n",
    "# residues that are not. \n",
    "\n",
    "\"\"\""
   ]
  },
  {
   "cell_type": "code",
   "execution_count": 3,
   "metadata": {
    "collapsed": true
   },
   "outputs": [],
   "source": [
    "def pos_to_conservation(SEQ_CONSERVE_TABLE):\n",
    "    \"\"\"\n",
    "        For positions that are in TM1 through TM 7. Identify the maximimum frequency in \n",
    "        the amino acid distribution\n",
    "    \"\"\"\n",
    "    def skip_position(pos):\n",
    "        if(pos == \"None\"): return True\n",
    "        tm, pos = map(int, pos.split(\"x\"))\n",
    "        if(tm <1 or tm > 7): return True\n",
    "        if(pos > 99): return True\n",
    "        return False\n",
    "        \n",
    "    \n",
    "    with open(SEQ_CONSERVE_TABLE, 'rU') as f: \n",
    "        reader = csv.reader(f, delimiter=\"\\t\")\n",
    "        d = list(reader)\n",
    "    darr = np.array(d)\n",
    "    column_labels = list(darr[0,:])\n",
    "    \n",
    "    pos_to_conserve = {}\n",
    "    for row in darr[1:]:\n",
    "        gpcrdb = row[0]\n",
    "        if(skip_position(gpcrdb) == True): continue\n",
    "        max_freq = max(map(float, row[1:]))\n",
    "        pos_to_conserve[gpcrdb] = max_freq\n",
    "        \n",
    "    return pos_to_conserve\n",
    "    \n",
    "def in_network_residues(l1, l2):\n",
    "    def get_resi(l):\n",
    "        f = open(l, 'r')\n",
    "        network_residues = set()\n",
    "        for line in f:\n",
    "            gpcrdb1, gpcrdb2 = line.strip().split(\"\\t\")\n",
    "            network_residues.add(gpcrdb1)\n",
    "            network_residues.add(gpcrdb2)\n",
    "        return network_residues\n",
    "        \n",
    "    network_residues = get_resi(l1)\n",
    "    network_residues |= get_resi(l2)\n",
    "    return network_residues\n",
    "    \n",
    "    \n",
    "# def boxplot(pos_to_conserve, network_residues):\n",
    "#     in_network_freq = []\n",
    "#     out_network_freq = []\n",
    "#     for gpcrdb in pos_to_conserve:\n",
    "#         freq = pos_to_conserve[gpcrdb]\n",
    "#         if(gpcrdb in network_residues):\n",
    "#             print(gpcrdb, freq)\n",
    "#             in_network_freq.append(freq)\n",
    "#         else:\n",
    "#             out_network_freq.append(freq)\n",
    "    \n",
    "#     print(len(in_network_freq), len(out_network_freq))\n",
    "            \n",
    "#     ### Boxplot\n",
    "#     plt.figure(figsize = (10,6))\n",
    "#     labels = [\"Conserved Network Residues\", \"Others\"]\n",
    "#     plt.boxplot([in_network_freq, out_network_freq])\n",
    "#     plt.xticks(range(1, len(labels) + 1), labels, rotation=\"horizontal\", fontsize=14)\n",
    "#     plt.title(\"Distribution of positional residue conservation\", fontsize=18)\n",
    "#     plt.ylabel(\"Sequence conservation\", fontsize=14)\n",
    "\n",
    "#     return in_network_freq, out_network_freq\n",
    "\n",
    "def boxplot_seaborne(pos_to_conserve, network_residues):\n",
    "    position = []\n",
    "    label = []\n",
    "    freqs = []\n",
    "    \n",
    "    in_network_freq, out_network_freq = [], []\n",
    "    for gpcrdb in pos_to_conserve:\n",
    "        freq = pos_to_conserve[gpcrdb]\n",
    "        position.append(gpcrdb)\n",
    "        freqs.append(freq)\n",
    "        if(gpcrdb in network_residues):\n",
    "            in_network_freq.append(freq)\n",
    "            label.append(\"Conserved Network Residues\")\n",
    "        else:\n",
    "            out_network_freq.append(freq)\n",
    "            label.append(\"Others\")\n",
    "    \n",
    "            \n",
    "    ### Boxplot\n",
    "    df = pd.DataFrame({\"position\": position, \"label\": label, \"freqs\": freqs})\n",
    "    sns.set_style(\"whitegrid\")\n",
    "    plt.figure(figsize = (9,6))\n",
    "    ax = sns.boxplot(x=\"label\", y=\"freqs\", data=df, color=\"White\", width=0.3, order = [\"Conserved Network Residues\", \"Others\"])\n",
    "    plt.xticks(rotation=90, fontsize=14)\n",
    "    plt.title(\"Distribution of positional residue conservation\", fontsize=18)\n",
    "    plt.ylabel(\"Sequence conservation\", fontsize=14)\n",
    "    plt.xlabel(\"\")\n",
    "\n",
    "    return in_network_freq, out_network_freq\n",
    "\n",
    "def wilcoxan_test(d1, d2):\n",
    "    s,p = scipy.stats.kruskal(d1,d2)\n",
    "    print(s,p)\n",
    "\n",
    "    "
   ]
  },
  {
   "cell_type": "code",
   "execution_count": 4,
   "metadata": {
    "collapsed": false
   },
   "outputs": [],
   "source": [
    "SEQ_CONSERVE_TABLE=\"/scratch/PI/rondror/akma327/DynamicNetworks/data/crystal-analysis/simulation-analysis/gpcrdb-freq-config/gpcrdb_residue_conservation.txt\"\n",
    "pos_to_conserve = pos_to_conservation(SEQ_CONSERVE_TABLE)"
   ]
  },
  {
   "cell_type": "code",
   "execution_count": 5,
   "metadata": {
    "collapsed": false
   },
   "outputs": [
    {
     "name": "stdout",
     "output_type": "stream",
     "text": [
      "('medians', [0.77459, 0.9959, 0.96311, 0.69421, 0.38272, 0.73251, 0.77459, 0.33333, 0.45041, 0.90909, 0.77686, 0.22727, 0.97131], [0.22131, 0.2582, 0.18852, 0.27869, 0.2377, 0.37295, 0.22951, 0.18033, 0.23967, 0.39344, 0.7418, 0.1875, 0.1875, 0.29098, 0.24402, 0.11043, 0.26667, 0.34211, 0.12883, 0.13571, 0.12308, 0.2, 0.23077, 0.18182, 0.17647, 0.30769, 0.30328, 0.39754, 0.20082, 0.37295, 0.31557, 0.56967, 0.56967, 0.63934, 0.34016, 0.38115, 0.28689, 0.40984, 0.42213, 0.25, 0.95902, 0.31148, 0.35656, 0.88525, 0.34025, 0.16034, 0.13675, 0.3, 0.57787, 0.92213, 0.7623, 0.32787, 0.4959, 0.38525, 0.35656, 0.13525, 0.2582, 0.19262, 0.2377, 0.2459, 0.58607, 0.68443, 0.34426, 0.19262, 0.29918, 0.25, 0.65164, 0.2623, 0.21721, 0.21721, 0.18443, 0.14754, 0.22131, 0.15164, 0.32569, 0.17857, 0.59244, 0.13636, 0.32877, 0.28689, 0.36885, 0.68443, 0.57377, 0.2418, 0.63115, 0.37705, 0.20082, 0.42623, 0.19262, 0.71193, 0.36214, 0.25926, 0.32922, 0.44033, 0.34979, 0.73251, 0.20988, 0.71311, 0.31557, 0.34836, 0.31148, 0.29918, 0.20082, 0.37295, 0.53689, 0.32377, 0.33197, 0.24242, 0.14286, 0.27907, 0.17949, 1.0, 0.21053, 0.22222, 0.14815, 0.18107, 0.18605, 0.3595, 0.99588, 0.28807, 0.28395, 0.15714, 0.12227, 0.95868, 0.34298, 0.24473, 0.27363, 0.26141, 0.44813, 0.10435, 0.26786, 0.40574, 0.4877, 0.15574, 0.23144, 0.26957, 0.57377, 0.21721, 0.29918, 0.15574, 1.0, 0.25, 0.18182, 0.19048, 0.21359, 0.1157, 0.17742, 0.128, 0.21481, 0.22513, 0.15481, 0.33884, 0.39344, 0.25, 0.33333, 0.25, 0.33333, 0.375, 0.38017, 0.66529, 0.27273, 0.33884, 0.32377, 0.22541, 0.40909, 0.19262, 0.28279, 0.40574, 0.82377, 0.45492, 0.25833, 0.425, 0.27083, 0.4, 0.42739, 0.29464, 0.34025, 0.25833, 0.66116, 0.25103, 0.25, 0.19835, 0.29091, 0.28333, 0.21935, 0.10185, 0.12389, 0.20354, 0.17769, 0.11157, 0.2562, 0.34426, 0.14754, 0.13014, 0.13699, 0.30638, 0.41667, 0.1658, 0.14035, 0.18072, 0.14458, 0.27801, 0.18584, 0.34568, 0.11194, 0.25316, 0.14925, 0.27049, 0.6, 0.6, 0.3444, 0.8, 0.21053, 0.5, 0.25532, 1.0, 0.21721, 0.36066, 0.31967, 0.12295, 0.20902, 0.19262, 0.25, 0.16071, 0.26009, 0.17021, 0.17647, 0.42213, 0.19342, 0.20902, 0.12598, 0.13502, 0.19672, 0.1327, 0.11392, 0.23361, 0.22131, 0.2418, 0.27459, 0.31148, 0.40164, 0.33813, 0.495, 0.26702, 0.41975, 0.48971, 0.66393, 0.20902, 0.25, 0.34016, 0.23361, 0.3087, 0.2521, 0.52521, 0.18033])\n",
      "(20.326981423836273, 6.5273609315886009e-06)\n"
     ]
    },
    {
     "data": {
      "image/png": "[encoded data removed]",
      "text/plain": [
       "<matplotlib.figure.Figure at 0x7f1f1c9ae6d0>"
      ]
     },
     "metadata": {},
     "output_type": "display_data"
    }
   ],
   "source": [
    "ACTIVE_LIST = \"/scratch/PI/rondror/akma327/DynamicNetworks/data/crystal-analysis/competing-network-analysis/pymol-visualization/040417/active-heatmap/01-pdb/interaction_list_sim_cutoff60_ALL.txt\"\n",
    "INACTIVE_LIST = \"/scratch/PI/rondror/akma327/DynamicNetworks/data/crystal-analysis/competing-network-analysis/pymol-visualization/040417/inactive-heatmap/01-pdb/interaction_list_sim_cutoff60_ALL.txt\"\n",
    "network_residues = in_network_residues(ACTIVE_LIST, INACTIVE_LIST)\n",
    "in_network_freq, out_network_freq =  boxplot_seaborne(pos_to_conserve, network_residues)\n",
    "# print(\"medians\", in_network_freq, out_network_freq)\n",
    "wilcoxan_test(in_network_freq, out_network_freq)"
   ]
  },
  {
   "cell_type": "code",
   "execution_count": 6,
   "metadata": {
    "collapsed": false
   },
   "outputs": [
    {
     "name": "stdout",
     "output_type": "stream",
     "text": [
      "('in median', 0.77459)\n",
      "('out median', 0.26956999999999998)\n"
     ]
    }
   ],
   "source": [
    "in_network_median = np.median(in_network_freq)\n",
    "print (\"in median\", in_network_median)\n",
    "out_network_median = np.median(out_network_freq)\n",
    "print (\"out median\", out_network_median)"
   ]
  },
  {
   "cell_type": "code",
   "execution_count": 7,
   "metadata": {
    "collapsed": false
   },
   "outputs": [],
   "source": [
    "def get_interactions(f1):\n",
    "    f = open(f1, 'r')\n",
    "    interactions = set()\n",
    "    for line in f:\n",
    "        gpcrdb1, gpcrdb2 = line.strip().split(\"\\t\")\n",
    "        interactions.add((gpcrdb1, gpcrdb2))\n",
    "    return interactions\n",
    "        "
   ]
  },
  {
   "cell_type": "code",
   "execution_count": 8,
   "metadata": {
    "collapsed": false
   },
   "outputs": [
    {
     "name": "stdout",
     "output_type": "stream",
     "text": [
      "set([('6x40', '7x45'), ('2x50', '7x53'), ('5x58', '7x53'), ('6x40', '7x49'), ('7x45', '7x53'), ('6x47', '7x37'), ('3x50', '7x52'), ('3x43', '7x53'), ('1x50', '2x50'), ('3x43', '5x58'), ('6x40', '7x53'), ('1x50', '7x53'), ('6x47', '6x51'), ('7x49', '7x53'), ('6x51', '7x37'), ('7x45', '7x49')])\n",
      "16\n"
     ]
    }
   ],
   "source": [
    "ACTIVE_LIST = \"/scratch/PI/rondror/akma327/DynamicNetworks/data/crystal-analysis/competing-network-analysis/pymol-visualization/040417/active-heatmap/01-pdb/interaction_list_sim_cutoff60_ALL.txt\"\n",
    "INACTIVE_LIST = \"/scratch/PI/rondror/akma327/DynamicNetworks/data/crystal-analysis/competing-network-analysis/pymol-visualization/040417/inactive-heatmap/01-pdb/interaction_list_sim_cutoff60_ALL.txt\"\n",
    "i1 = get_interactions(ACTIVE_LIST)\n",
    "i2 = get_interactions(INACTIVE_LIST)\n",
    "all_interaction = i1 | i2\n",
    "print all_interaction\n",
    "print(len(all_interaction))"
   ]
  },
  {
   "cell_type": "code",
   "execution_count": 9,
   "metadata": {
    "collapsed": false
   },
   "outputs": [
    {
     "name": "stdout",
     "output_type": "stream",
     "text": [
      "7\n",
      "(set(['6x51', '1x50', '2x50', '7x53', '7x49', '7x45', '6x47', '7x37']), 8)\n"
     ]
    }
   ],
   "source": [
    "# print(len(i1))\n",
    "# ac = set()\n",
    "# for a, b in i1:\n",
    "#     ac.add(a)\n",
    "#     ac.add(b)\n",
    "# print(ac, len(ac))\n",
    "\n",
    "\n",
    "print(len(i2))\n",
    "inac = set()\n",
    "for a,b in i2:\n",
    "    inac.add(a)\n",
    "    inac.add(b)\n",
    "print(inac, len(inac))"
   ]
  },
  {
   "cell_type": "code",
   "execution_count": null,
   "metadata": {
    "collapsed": true
   },
   "outputs": [],
   "source": [
    "# Class A missense mutation box plot "
   ]
  },
  {
   "cell_type": "code",
   "execution_count": 51,
   "metadata": {
    "collapsed": false
   },
   "outputs": [],
   "source": [
    "MISSENSE_FILE=\"/scratch/PI/rondror/akma327/DynamicNetworks/data/crystal-analysis/simulation-analysis/gpcrdb-freq-config/classA_human_missense_mutations.txt\"\n",
    "\n",
    "def calc_pos_to_snpcount(MISSENSE_FILE, mode=\"snp\"):\n",
    "    \"\"\"\n",
    "        Return: {\"1x50\": 20, \"2x50\": 23, ...}\n",
    "        Mapping from position to number of missense mutations \n",
    "    \"\"\"\n",
    "    f = open(MISSENSE_FILE, 'r')\n",
    "    pos_to_snpcount_dict = {} # {1x50: number of rows}\n",
    "    pos_to_weighted_snpcount_dict = {} # {1x50: sum of allele freqs}\n",
    "    \n",
    "    for line in f:\n",
    "        linfo = line.strip().split(\"\\t\")\n",
    "        gpcrdb = linfo[2]\n",
    "        allele_freq = float(linfo[-1])\n",
    "        \n",
    "        if(gpcrdb == \"None\"):continue\n",
    "        # snpcount_dict\n",
    "        if(gpcrdb not in pos_to_snpcount_dict):\n",
    "            pos_to_snpcount_dict[gpcrdb] = 1\n",
    "        else:\n",
    "            pos_to_snpcount_dict[gpcrdb] += 1\n",
    "        \n",
    "        # snpcount_dict weighted by allele freq\n",
    "        if(gpcrdb not in pos_to_weighted_snpcount_dict):\n",
    "            pos_to_weighted_snpcount_dict[gpcrdb] = allele_freq\n",
    "        else:\n",
    "            pos_to_weighted_snpcount_dict[gpcrdb] += allele_freq\n",
    "            \n",
    "    if(mode == \"snp\"):\n",
    "        return pos_to_snpcount_dict\n",
    "    elif(mode == \"allele\"):\n",
    "        return pos_to_weighted_snpcount_dict\n",
    "        \n",
    "        \n",
    "def snp_boxplot_seaborne(pos_to_snpcount, network_residues):\n",
    "    position = []\n",
    "    label = []\n",
    "    freqs = []\n",
    "    \n",
    "    in_network_freq, out_network_freq = [], []\n",
    "    for gpcrdb in pos_to_snpcount:\n",
    "        freq = pos_to_snpcount[gpcrdb]\n",
    "        position.append(gpcrdb)\n",
    "        freqs.append(freq)\n",
    "        if(gpcrdb in network_residues):\n",
    "            in_network_freq.append(freq)\n",
    "            label.append(\"Conserved Network Residues\")\n",
    "        else:\n",
    "            out_network_freq.append(freq)\n",
    "            label.append(\"Others\")\n",
    "    \n",
    "            \n",
    "    ### Boxplot\n",
    "    df = pd.DataFrame({\"position\": position, \"label\": label, \"freqs\": freqs})\n",
    "    sns.set_style(\"whitegrid\")\n",
    "    plt.figure(figsize = (9,6))\n",
    "    ax = sns.boxplot(x=\"label\", y=\"freqs\", data=df, color=\"White\", width=0.3, order = [\"Conserved Network Residues\", \"Others\"])\n",
    "    plt.xticks(rotation=90, fontsize=14)\n",
    "    plt.title(\"Distribution of positional residue missense mutation rate\", fontsize=18)\n",
    "    plt.ylabel(\"SNP Count\", fontsize=14)\n",
    "    plt.xlabel(\"\")\n",
    "    \n",
    "    return in_network_freq, out_network_freq\n",
    "\n"
   ]
  },
  {
   "cell_type": "code",
   "execution_count": 52,
   "metadata": {
    "collapsed": false
   },
   "outputs": [
    {
     "data": {
      "image/png": "[encoded data removed]",
      "text/plain": [
       "<matplotlib.figure.Figure at 0x7f1f19aa98d0>"
      ]
     },
     "metadata": {},
     "output_type": "display_data"
    }
   ],
   "source": [
    "ACTIVE_LIST = \"/scratch/PI/rondror/akma327/DynamicNetworks/data/crystal-analysis/competing-network-analysis/pymol-visualization/040417/active-heatmap/01-pdb/interaction_list_sim_cutoff60_ALL.txt\"\n",
    "INACTIVE_LIST = \"/scratch/PI/rondror/akma327/DynamicNetworks/data/crystal-analysis/competing-network-analysis/pymol-visualization/040417/inactive-heatmap/01-pdb/interaction_list_sim_cutoff60_ALL.txt\"\n",
    "network_residues = in_network_residues(ACTIVE_LIST, INACTIVE_LIST)\n",
    "pos_to_snpcount = calc_pos_to_snpcount(MISSENSE_FILE, \"snp\")\n",
    "in_network_freq, out_network_freq =  snp_boxplot_seaborne(pos_to_snpcount, network_residues)\n"
   ]
  },
  {
   "cell_type": "code",
   "execution_count": 58,
   "metadata": {
    "collapsed": false
   },
   "outputs": [
    {
     "name": "stdout",
     "output_type": "stream",
     "text": [
      "[55, 52, 58, 84, 76, 52, 59, 64, 48, 78, 62, 82, 200]\n",
      "[63, 67, 96, 97, 69, 79, 72, 62, 16, 93, 66, 68, 59, 6, 100, 61, 90, 21, 17, 13, 61, 52, 26, 21, 11, 5, 21, 50, 40, 9, 75, 39, 85, 49, 65, 61, 61, 80, 41, 89, 83, 153, 45, 81, 65, 46, 72, 106, 49, 68, 88, 92, 75, 76, 51, 93, 63, 62, 77, 64, 90, 95, 2, 106, 76, 68, 6, 86, 112, 74, 72, 42, 72, 62, 88, 73, 54, 84, 94, 83, 74, 1, 63, 80, 72, 68, 55, 93, 76, 56, 61, 74, 65, 76, 69, 49, 82, 73, 3, 60, 61, 56, 80, 68, 52, 80, 5, 92, 71, 70, 78, 83, 61, 89, 45, 71, 6, 48, 84, 77, 78, 39, 56, 78, 71, 61, 73, 85, 67, 91, 19, 72, 56, 31, 21, 1, 17, 19, 84, 75, 81, 64, 26, 112, 74, 64, 85, 90, 87, 96, 53, 91, 66, 7, 69, 45, 61, 57, 101, 75, 88, 68, 97, 114, 74, 69, 43, 6, 45, 38, 42, 50, 39, 71, 81, 3, 101, 88, 94, 102, 5, 81, 71, 69, 47, 81, 62, 63, 75, 103, 90, 73, 58, 79, 102, 60, 103, 75, 93, 103, 91, 69, 92, 110, 90, 58, 80, 99, 75, 85, 77, 13, 87, 59, 85, 104, 50, 68, 74, 64, 57, 62, 69, 7, 84, 74, 15, 44, 59, 114, 94, 9, 63, 56, 15, 39, 51, 5, 51, 27, 33, 73, 114, 89, 63, 58, 27, 57, 2, 2, 21, 73, 55, 1, 4, 76, 17, 1, 98, 73, 84, 83, 77, 75, 78, 78, 39, 55, 3, 78, 4, 79, 2, 6, 88, 84, 78, 102, 83, 112, 83, 83, 84, 61, 49, 95, 63, 65, 82, 78, 40, 89, 67, 67, 117, 134, 114, 96, 89]\n",
      "(0.056985612856606672, 0.81132534757160646)\n",
      "('in median', 62.0)\n",
      "('out median', 69.0)\n"
     ]
    }
   ],
   "source": [
    "print(in_network_freq)\n",
    "print(out_network_freq)\n",
    "wilcoxan_test(in_network_freq, out_network_freq)\n",
    "\n",
    "in_network_median = np.median(in_network_freq)\n",
    "print (\"in median\", in_network_median)\n",
    "out_network_median = np.median(out_network_freq)\n",
    "print (\"out median\", out_network_median)"
   ]
  },
  {
   "cell_type": "code",
   "execution_count": 38,
   "metadata": {
    "collapsed": false
   },
   "outputs": [
    {
     "data": {
      "image/png": "[encoded data removed]",
      "text/plain": [
       "<matplotlib.figure.Figure at 0x7f1f19c43e90>"
      ]
     },
     "metadata": {},
     "output_type": "display_data"
    }
   ],
   "source": [
    "pos_to_snpallelefreq = calc_pos_to_snpcount(MISSENSE_FILE, \"allele\")\n",
    "snp_boxplot_seaborne(pos_to_snpallelefreq, network_residues)\n"
   ]
  },
  {
   "cell_type": "code",
   "execution_count": 39,
   "metadata": {
    "collapsed": false
   },
   "outputs": [
    {
     "data": {
      "text/plain": [
       "{'12x48': 0.003044000000000002,\n",
       " '12x49': 0.6235260000000007,\n",
       " '12x50': 0.2922460000000001,\n",
       " '12x51': 0.3013920000000003,\n",
       " '12x52': 0.1883580000000001,\n",
       " '1x23': 0.0019730000000000004,\n",
       " '1x24': 0.000125,\n",
       " '1x25': 0.000266,\n",
       " '1x26': 0.011331999999999997,\n",
       " '1x27': 0.0010809999999999997,\n",
       " '1x28': 0.0015969999999999997,\n",
       " '1x29': 0.02183800000000002,\n",
       " '1x30': 0.31304100000000024,\n",
       " '1x31': 0.006076000000000002,\n",
       " '1x32': 0.014518,\n",
       " '1x33': 0.005866000000000008,\n",
       " '1x34': 0.005098000000000002,\n",
       " '1x35': 0.012783,\n",
       " '1x36': 0.26332300000000036,\n",
       " '1x37': 0.011405000000000012,\n",
       " '1x38': 0.009101999999999994,\n",
       " '1x39': 0.014597999999999984,\n",
       " '1x40': 0.03752400000000001,\n",
       " '1x41': 0.024804000000000014,\n",
       " '1x411': 9.9e-05,\n",
       " '1x42': 0.0033350000000000016,\n",
       " '1x43': 0.0017199999999999995,\n",
       " '1x44': 0.07032299999999998,\n",
       " '1x45': 0.9278210000000001,\n",
       " '1x46': 0.008184000000000002,\n",
       " '1x47': 0.007151000000000002,\n",
       " '1x48': 0.17740799999999995,\n",
       " '1x49': 0.04294700000000006,\n",
       " '1x50': 0.1863390000000001,\n",
       " '1x51': 0.38507200000000014,\n",
       " '1x52': 0.3764430000000003,\n",
       " '1x53': 0.0030530000000000045,\n",
       " '1x54': 1.129255,\n",
       " '1x55': 0.0059330000000000155,\n",
       " '1x56': 0.022498000000000008,\n",
       " '1x57': 0.028948999999999996,\n",
       " '1x58': 0.007674000000000007,\n",
       " '1x59': 0.5624420000000002,\n",
       " '1x60': 0.012071999999999992,\n",
       " '23x48': 0.003718,\n",
       " '23x49': 0.006878000000000007,\n",
       " '23x491': 0.0025530000000000006,\n",
       " '23x50': 0.0014659999999999996,\n",
       " '23x51': 0.5584990000000002,\n",
       " '23x52': 0.003157000000000002,\n",
       " '23x53': 0.002520000000000001,\n",
       " '2x34': 0.00013000000000000002,\n",
       " '2x35': 0.000502,\n",
       " '2x36': 0.000186,\n",
       " '2x37': 0.00017199999999999998,\n",
       " '2x38': 0.13626,\n",
       " '2x39': 0.006984000000000008,\n",
       " '2x40': 0.009583000000000003,\n",
       " '2x41': 0.007179000000000007,\n",
       " '2x42': 0.0021489999999999994,\n",
       " '2x43': 0.0038900000000000024,\n",
       " '2x44': 0.011853000000000002,\n",
       " '2x45': 0.00205,\n",
       " '2x46': 0.009390999999999997,\n",
       " '2x47': 0.0030400000000000054,\n",
       " '2x48': 0.25718500000000016,\n",
       " '2x49': 0.012441999999999993,\n",
       " '2x50': 0.0982259999999999,\n",
       " '2x51': 0.007283000000000007,\n",
       " '2x52': 0.0030040000000000028,\n",
       " '2x53': 0.006817000000000008,\n",
       " '2x54': 0.18496800000000002,\n",
       " '2x55': 0.010385,\n",
       " '2x551': 0.0008459999999999997,\n",
       " '2x56': 0.013550999999999997,\n",
       " '2x57': 0.0016409999999999994,\n",
       " '2x58': 0.004304,\n",
       " '2x59': 0.004060000000000002,\n",
       " '2x60': 0.17028100000000013,\n",
       " '2x61': 1.29197,\n",
       " '2x62': 0.03307100000000001,\n",
       " '2x63': 0.46742300000000014,\n",
       " '2x64': 0.014848000000000007,\n",
       " '2x65': 0.009760000000000005,\n",
       " '2x66': 0.21346300000000015,\n",
       " '2x67': 0.000147,\n",
       " '34x50': 0.029381000000000015,\n",
       " '34x51': 0.03473200000000004,\n",
       " '34x52': 0.008319000000000007,\n",
       " '34x53': 0.011311000000000005,\n",
       " '34x54': 0.008353999999999997,\n",
       " '34x55': 0.004079000000000002,\n",
       " '34x56': 0.025865000000000016,\n",
       " '34x57': 0.005029000000000003,\n",
       " '3x22': 0.07074799999999998,\n",
       " '3x23': 0.12120699999999984,\n",
       " '3x24': 0.012085999999999994,\n",
       " '3x25': 0.0014249999999999994,\n",
       " '3x26': 0.006711000000000007,\n",
       " '3x27': 0.011307999999999986,\n",
       " '3x28': 0.3925260000000005,\n",
       " '3x29': 1.0008400000000002,\n",
       " '3x30': 0.008728,\n",
       " '3x31': 0.015347999999999983,\n",
       " '3x32': 0.006969,\n",
       " '3x33': 0.0022989999999999985,\n",
       " '3x34': 0.010427999999999993,\n",
       " '3x35': 0.009555999999999986,\n",
       " '3x36': 0.005394000000000003,\n",
       " '3x37': 0.0033500000000000023,\n",
       " '3x38': 0.0052090000000000036,\n",
       " '3x39': 0.008436,\n",
       " '3x40': 0.0033959999999999993,\n",
       " '3x41': 0.0013469999999999997,\n",
       " '3x42': 0.0031739999999999997,\n",
       " '3x43': 0.010058999999999997,\n",
       " '3x44': 0.002506000000000001,\n",
       " '3x45': 0.004194000000000005,\n",
       " '3x46': 0.0014759999999999997,\n",
       " '3x47': 0.005439000000000005,\n",
       " '3x48': 0.0037850000000000006,\n",
       " '3x49': 0.004790000000000001,\n",
       " '3x50': 0.014416999999999973,\n",
       " '3x51': 0.11460699999999993,\n",
       " '3x52': 0.02879800000000001,\n",
       " '3x53': 0.004135000000000005,\n",
       " '3x54': 0.23685900000000004,\n",
       " '3x55': 0.004307000000000002,\n",
       " '3x56': 0.199376,\n",
       " '45x50': 0.02365300000000001,\n",
       " '45x51': 0.0068590000000000005,\n",
       " '45x52': 0.015134999999999997,\n",
       " '4x35': 0.0005109999999999998,\n",
       " '4x36': 0.0031120000000000006,\n",
       " '4x37': 0.0013479999999999996,\n",
       " '4x38': 0.0014579999999999994,\n",
       " '4x39': 0.007296000000000007,\n",
       " '4x40': 0.051656000000000035,\n",
       " '4x41': 0.008838000000000002,\n",
       " '4x42': 0.004247000000000004,\n",
       " '4x43': 0.02432900000000002,\n",
       " '4x44': 0.016317999999999996,\n",
       " '4x45': 0.030408000000000004,\n",
       " '4x46': 0.0023590000000000013,\n",
       " '4x47': 0.021615999999999972,\n",
       " '4x48': 0.09992599999999983,\n",
       " '4x49': 0.009784999999999988,\n",
       " '4x50': 0.0010019999999999996,\n",
       " '4x51': 0.0065870000000000095,\n",
       " '4x52': 0.005855000000000004,\n",
       " '4x53': 0.014846999999999994,\n",
       " '4x54': 0.004703000000000003,\n",
       " '4x55': 0.028928000000000016,\n",
       " '4x56': 0.013852999999999976,\n",
       " '4x57': 0.0027710000000000018,\n",
       " '4x58': 0.006030000000000001,\n",
       " '4x59': 0.018286000000000004,\n",
       " '4x60': 0.002291000000000001,\n",
       " '4x61': 0.3225840000000002,\n",
       " '4x62': 1.2501730000000002,\n",
       " '4x63': 0.11334099999999983,\n",
       " '4x64': 0.00039299999999999996,\n",
       " '5x30': 4.9e-05,\n",
       " '5x31': 1.6e-05,\n",
       " '5x32': 0.0009359999999999997,\n",
       " '5x33': 0.11015499999999993,\n",
       " '5x34': 0.002126,\n",
       " '5x35': 0.0033420000000000012,\n",
       " '5x36': 0.022975000000000023,\n",
       " '5x37': 0.009510000000000001,\n",
       " '5x38': 0.003942000000000001,\n",
       " '5x39': 0.022280000000000008,\n",
       " '5x40': 0.005778000000000007,\n",
       " '5x401': 4.1e-05,\n",
       " '5x41': 0.017287000000000018,\n",
       " '5x42': 0.005270000000000002,\n",
       " '5x43': 0.004205000000000003,\n",
       " '5x44': 0.23776800000000006,\n",
       " '5x45': 0.0050960000000000024,\n",
       " '5x451': 8.2e-05,\n",
       " '5x46': 0.001561999999999999,\n",
       " '5x461': 0.005943000000000003,\n",
       " '5x47': 0.011782999999999991,\n",
       " '5x48': 0.004293000000000003,\n",
       " '5x49': 0.0029110000000000013,\n",
       " '5x50': 0.0024290000000000028,\n",
       " '5x51': 0.003879000000000002,\n",
       " '5x52': 0.12929800000000008,\n",
       " '5x53': 0.0024540000000000013,\n",
       " '5x54': 0.025640000000000027,\n",
       " '5x55': 0.006766000000000002,\n",
       " '5x56': 0.15566400000000005,\n",
       " '5x57': 0.0023380000000000007,\n",
       " '5x58': 0.006042000000000002,\n",
       " '5x59': 0.02349300000000001,\n",
       " '5x60': 0.018996000000000013,\n",
       " '5x61': 0.0031760000000000035,\n",
       " '5x62': 0.21086,\n",
       " '5x63': 0.031425000000000015,\n",
       " '5x64': 0.3132920000000003,\n",
       " '5x65': 0.009577000000000002,\n",
       " '5x66': 0.013109999999999988,\n",
       " '5x67': 0.8212670000000002,\n",
       " '5x68': 0.0037010000000000016,\n",
       " '5x69': 0.3006030000000002,\n",
       " '5x70': 0.08478999999999993,\n",
       " '5x71': 0.0007219999999999997,\n",
       " '5x72': 0.002432,\n",
       " '5x73': 0.0005659999999999999,\n",
       " '5x74': 0.00023000000000000003,\n",
       " '5x75': 0.0003159999999999999,\n",
       " '5x76': 0.000266,\n",
       " '5x77': 8e-06,\n",
       " '6x19': 4.1e-05,\n",
       " '6x22': 0.002026,\n",
       " '6x23': 0.00013700000000000005,\n",
       " '6x24': 0.003346000000000001,\n",
       " '6x25': 0.003285000000000003,\n",
       " '6x26': 0.0026,\n",
       " '6x27': 0.016787,\n",
       " '6x28': 0.006294000000000006,\n",
       " '6x29': 0.001468999999999999,\n",
       " '6x30': 1.0088039999999996,\n",
       " '6x31': 0.008082000000000004,\n",
       " '6x32': 0.004550000000000006,\n",
       " '6x33': 0.0065010000000000085,\n",
       " '6x34': 0.0034110000000000056,\n",
       " '6x35': 0.042127000000000005,\n",
       " '6x36': 0.1695710000000002,\n",
       " '6x37': 0.0033260000000000047,\n",
       " '6x38': 0.04001100000000002,\n",
       " '6x39': 1.132892,\n",
       " '6x40': 1.0913099999999996,\n",
       " '6x41': 0.141582,\n",
       " '6x42': 0.079641,\n",
       " '6x43': 0.025623000000000007,\n",
       " '6x44': 0.471885,\n",
       " '6x45': 0.0018419999999999995,\n",
       " '6x451': 0.00022200000000000003,\n",
       " '6x46': 0.4117580000000005,\n",
       " '6x47': 0.0014439999999999995,\n",
       " '6x48': 0.009961000000000001,\n",
       " '6x49': 0.002074000000000002,\n",
       " '6x50': 0.0021320000000000006,\n",
       " '6x51': 0.0023020000000000007,\n",
       " '6x52': 0.013885000000000003,\n",
       " '6x53': 0.28472200000000053,\n",
       " '6x54': 0.003945000000000002,\n",
       " '6x55': 0.1255869999999999,\n",
       " '6x56': 0.0022230000000000006,\n",
       " '6x57': 0.02076800000000001,\n",
       " '6x58': 0.001711999999999999,\n",
       " '6x59': 0.003932000000000001,\n",
       " '6x60': 0.351854,\n",
       " '6x61': 0.004609000000000001,\n",
       " '6x62': 0.0004899999999999999,\n",
       " '6x63': 0.030700000000000005,\n",
       " '6x64': 0.000221,\n",
       " '7x23': 0.17449099999999998,\n",
       " '7x24': 0.003585000000000001,\n",
       " '7x25': 0.017272000000000006,\n",
       " '7x26': 0.0017149999999999995,\n",
       " '7x27': 0.009475999999999995,\n",
       " '7x28': 0.002356,\n",
       " '7x29': 0.053759,\n",
       " '7x30': 0.009740999999999996,\n",
       " '7x31': 0.011349999999999987,\n",
       " '7x32': 0.14462999999999984,\n",
       " '7x33': 0.004157000000000002,\n",
       " '7x34': 0.031322,\n",
       " '7x35': 0.14971300000000015,\n",
       " '7x36': 0.006585000000000007,\n",
       " '7x37': 0.008311000000000004,\n",
       " '7x38': 0.006794000000000006,\n",
       " '7x39': 0.24149800000000016,\n",
       " '7x40': 0.30304300000000006,\n",
       " '7x41': 0.016339999999999997,\n",
       " '7x42': 0.004569000000000004,\n",
       " '7x43': 0.01865600000000001,\n",
       " '7x45': 0.5748160000000004,\n",
       " '7x46': 0.004725000000000005,\n",
       " '7x47': 0.004786000000000005,\n",
       " '7x48': 0.019279000000000008,\n",
       " '7x49': 0.04155100000000004,\n",
       " '7x50': 0.012759999999999992,\n",
       " '7x51': 0.04115900000000003,\n",
       " '7x52': 0.005380000000000004,\n",
       " '7x53': 0.0017869999999999997,\n",
       " '7x54': 0.03845900000000003,\n",
       " '7x55': 0.009615000000000004,\n",
       " '7x56': 0.46092300000000047,\n",
       " '7x57': 0.0017019999999999995,\n",
       " '8x47': 0.0018219999999999998,\n",
       " '8x48': 0.014533999999999988,\n",
       " '8x49': 0.2857020000000001,\n",
       " '8x50': 0.0006689999999999993,\n",
       " '8x51': 0.01920900000000001,\n",
       " '8x52': 0.0034760000000000012,\n",
       " '8x53': 0.49482500000000007,\n",
       " '8x54': 0.06806999999999987,\n",
       " '8x55': 1.271235,\n",
       " '8x56': 0.7416120000000005,\n",
       " '8x57': 0.002995000000000003,\n",
       " '8x58': 0.045685,\n",
       " '8x59': 0.2896470000000001,\n",
       " '8x60': 0.0004969999999999999,\n",
       " '8x61': 0.000255,\n",
       " '8x62': 2.4e-05,\n",
       " '8x63': 0.000106,\n",
       " '8x64': 9.9e-05,\n",
       " '8x65': 0.000178,\n",
       " '8x66': 0.000123}"
      ]
     },
     "execution_count": 39,
     "metadata": {},
     "output_type": "execute_result"
    }
   ],
   "source": [
    "pos_to_snpallelefreq"
   ]
  },
  {
   "cell_type": "code",
   "execution_count": null,
   "metadata": {
    "collapsed": true
   },
   "outputs": [],
   "source": []
  }
 ],
 "metadata": {
  "kernelspec": {
   "display_name": "Python 2",
   "language": "python",
   "name": "python2"
  },
  "language_info": {
   "codemirror_mode": {
    "name": "ipython",
    "version": 2
   },
   "file_extension": ".py",
   "mimetype": "text/x-python",
   "name": "python",
   "nbconvert_exporter": "python",
   "pygments_lexer": "ipython2",
   "version": "2.7.11"
  }
 },
 "nbformat": 4,
 "nbformat_minor": 0
}
