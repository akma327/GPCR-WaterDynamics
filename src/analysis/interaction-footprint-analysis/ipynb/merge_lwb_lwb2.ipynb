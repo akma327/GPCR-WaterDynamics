{
 "cells": [
  {
   "cell_type": "code",
   "execution_count": 1,
   "metadata": {
    "collapsed": true
   },
   "outputs": [],
   "source": [
    "# Merge lwb and lwb2 file "
   ]
  },
  {
   "cell_type": "code",
   "execution_count": 1,
   "metadata": {
    "collapsed": true
   },
   "outputs": [],
   "source": [
    "import os\n",
    "\n",
    "def merge_lwb_lwb2(lwb_file, lwb2_file, output_file):\n",
    "    OUT_DIR = \"/\".join(output_file.split(\"/\")[0:-1])\n",
    "    if not os.path.exists(OUT_DIR):\n",
    "        os.makedirs(OUT_DIR)\n",
    "    f1 = open(lwb_file, 'r')\n",
    "    f2 = open(lwb2_file, 'r')\n",
    "    fw = open(output_file, 'w')\n",
    "    \n",
    "    header, header2 = f1.readline(), f2.readline()\n",
    "    fw.write(header)\n",
    "    for line in f1:\n",
    "        linfo = line.split(\"\\t\")\n",
    "        fw.write(linfo[0] + \":lwb\\t\" + \"\\t\".join(linfo[1:]))\n",
    "    \n",
    "    for line in f2:\n",
    "        linfo = line.split(\"\\t\")\n",
    "        fw.write(linfo[0] + \":lwb2\\t\" + \"\\t\".join(linfo[1:]))\n"
   ]
  },
  {
   "cell_type": "code",
   "execution_count": 2,
   "metadata": {
    "collapsed": false
   },
   "outputs": [],
   "source": [
    "# active\n",
    "\n",
    "lwb_file = \"/scratch/PI/rondror/akma327/DynamicNetworks/results/non-state-decomposition/residue-resolution-combined-rep/051717_union_wb_freq/lwb/active_receptors/active_non_state_decomp_residue_resolution_filtered.txt\"\n",
    "lwb2_file = \"/scratch/PI/rondror/akma327/DynamicNetworks/results/non-state-decomposition/residue-resolution-combined-rep/051717_union_wb_freq/lwb2/active_receptors/active_non_state_decomp_residue_resolution_filtered.txt\"\n",
    "output_file = \"/scratch/PI/rondror/akma327/DynamicNetworks/results/non-state-decomposition/residue-resolution-combined-rep/051717_union_wb_freq/lwb_lwb2/active_receptors/active_non_state_decomp_residue_resolution_filtered.txt\"\n",
    "merge_lwb_lwb2(lwb_file, lwb2_file, output_file)\n",
    "\n",
    "\n",
    "# active\n",
    "\n",
    "lwb_file = \"/scratch/PI/rondror/akma327/DynamicNetworks/results/non-state-decomposition/residue-resolution-combined-rep/051717_union_wb_freq/lwb/inactive_receptors/inactive_non_state_decomp_residue_resolution_filtered.txt\"\n",
    "lwb2_file = \"/scratch/PI/rondror/akma327/DynamicNetworks/results/non-state-decomposition/residue-resolution-combined-rep/051717_union_wb_freq/lwb2/inactive_receptors/inactive_non_state_decomp_residue_resolution_filtered.txt\"\n",
    "output_file = \"/scratch/PI/rondror/akma327/DynamicNetworks/results/non-state-decomposition/residue-resolution-combined-rep/051717_union_wb_freq/lwb_lwb2/inactive_receptors/inactive_non_state_decomp_residue_resolution_filtered.txt\"\n",
    "merge_lwb_lwb2(lwb_file, lwb2_file, output_file)"
   ]
  },
  {
   "cell_type": "code",
   "execution_count": null,
   "metadata": {
    "collapsed": true
   },
   "outputs": [],
   "source": []
  }
 ],
 "metadata": {
  "kernelspec": {
   "display_name": "Python 2",
   "language": "python",
   "name": "python2"
  },
  "language_info": {
   "codemirror_mode": {
    "name": "ipython",
    "version": 2
   },
   "file_extension": ".py",
   "mimetype": "text/x-python",
   "name": "python",
   "nbconvert_exporter": "python",
   "pygments_lexer": "ipython2",
   "version": "2.7.11"
  }
 },
 "nbformat": 4,
 "nbformat_minor": 0
}
