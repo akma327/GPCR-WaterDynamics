{
 "cells": [
  {
   "cell_type": "code",
   "execution_count": 3,
   "metadata": {
    "collapsed": true
   },
   "outputs": [],
   "source": [
    "# Author: Anthony Kai Kwang Ma\n",
    "# Date: 03/03/2017\n",
    "# join_residue_resolution_freq_table.py\n",
    "\n",
    "USAGE_STR = \"\"\"\n",
    "# Purpose\n",
    "# Join two residue resolution frequency tables (ie active and inactive state)\n",
    "# upon gpcrdb1:gpcrdb2 key. If the key is not present in one of the table then\n",
    "# just assign frequency value of 0 to the respective columns. \n",
    "\n",
    "# Usage\n",
    "# python filter_residue_resolution_freq_table.py <TABLE1> <TABLE2> <OUTPUT_FILE>\n",
    "\n",
    "# Arguments\n",
    "# <TABLE1> Absolute path to first input file table\n",
    "# <TABLE2> Absolute path to second input file table\n",
    "# <JOINED_TABLE> Absolute path to joined file table\n",
    "\n",
    "# Example\n",
    "\n",
    "TABLE1=\"/scratch/PI/rondror/akma327/DynamicNetworks/results/non-state-decomposition/residue-resolution-combined-rep/022417_union_wb_freq/wb_wb2/active_receptors/active_non_state_decomp_residue_resolution_filtered.txt\"\n",
    "TABLE2=\"/scratch/PI/rondror/akma327/DynamicNetworks/results/non-state-decomposition/residue-resolution-combined-rep/022417_union_wb_freq/wb_wb2/inactive_receptors/inactive_non_state_decomp_residue_resolution_filtered.txt\"\n",
    "JOINED_TABLE=\"/scratch/PI/rondror/akma327/DynamicNetworks/results/non-state-decomposition/residue-resolution-combined-rep/022417_union_wb_freq/wb_wb2/all_receptors/joined_receptors_non_state_decomp_residue_resolution_filtered.txt\"\n",
    "python filter_residue_resolution_freq_table.py $TABLE1 $TABLE2 $JOINED_TABLE\n",
    "\n",
    "\"\"\""
   ]
  },
  {
   "cell_type": "code",
   "execution_count": 32,
   "metadata": {
    "collapsed": true
   },
   "outputs": [],
   "source": [
    "def extract_table_info(TABLE):\n",
    "    \"\"\"\n",
    "        Extract the row labels and interaction frequencies for a heatmap table\n",
    "    \"\"\"\n",
    "    f = open(TABLE, 'r')\n",
    "    header = f.readline()\n",
    "    exp_conds = header.strip().split(\"\\t\")[1:]\n",
    "    interaction_key_to_freqs = {}\n",
    "    for line in f:\n",
    "        linfo = line.strip().split(\"\\t\")\n",
    "        interaction_key = linfo[0]\n",
    "        freqs = linfo[1:]\n",
    "        interaction_key_to_freqs[interaction_key] = freqs\n",
    "    return exp_conds, interaction_key_to_freqs\n",
    "\n",
    "\n",
    "def join_tables(TABLE1, TABLE2, JOINED_TABLE):\n",
    "    \"\"\"\n",
    "        Driver method for joining two heatmap tables\n",
    "    \"\"\"\n",
    "    exp_conds1, interaction_key_to_freqs1 =  extract_table_info(TABLE1)\n",
    "    exp_conds2, interaction_key_to_freqs2 =  extract_table_info(TABLE2)\n",
    "    ncol1, ncol2 = len(exp_conds1), len(exp_conds2) # Number of columns for active and inactive heatmap\n",
    "    \n",
    "    ### Unionize row labels\n",
    "    union_keys = sorted(list(set(interaction_key_to_freqs1.keys()) | set(interaction_key_to_freqs2.keys())))\n",
    "    \n",
    "    ###\n",
    "    fw = open(JOINED_TABLE, 'w')\n",
    "    header = \"GPCRDB1:GPCRDB2\" + \"\\t\" + \"\\t\".join(exp_conds1 + exp_conds2)\n",
    "    fw.write(header + \"\\n\")\n",
    "    for key in union_keys:\n",
    "        line = key \n",
    "        if(key in interaction_key_to_freqs1):\n",
    "            line += \"\\t\" + \"\\t\".join(interaction_key_to_freqs1[key])\n",
    "        else:\n",
    "            line += \"\\t\" + \"\\t\".join([\"0.0\"]*ncol1)\n",
    "        \n",
    "        if(key in interaction_key_to_freqs2):\n",
    "            line += \"\\t\" + \"\\t\".join(interaction_key_to_freqs2[key])\n",
    "        else:\n",
    "            line += \"\\t\" + \"\\t\".join([\"0.0\"]*ncol2)\n",
    "        fw.write(line+ \"\\n\")\n",
    "        \n",
    "\n",
    "    "
   ]
  },
  {
   "cell_type": "code",
   "execution_count": 33,
   "metadata": {
    "collapsed": false
   },
   "outputs": [],
   "source": [
    "TABLE1=\"/scratch/PI/rondror/akma327/DynamicNetworks/results/non-state-decomposition/residue-resolution-combined-rep/022417_union_wb_freq/wb_wb2/active_receptors/active_non_state_decomp_residue_resolution_filtered.txt\"\n",
    "TABLE2=\"/scratch/PI/rondror/akma327/DynamicNetworks/results/non-state-decomposition/residue-resolution-combined-rep/022417_union_wb_freq/wb_wb2/inactive_receptors/inactive_non_state_decomp_residue_resolution_filtered.txt\"\n",
    "JOINED_TABLE=\"/scratch/PI/rondror/akma327/DynamicNetworks/results/non-state-decomposition/residue-resolution-combined-rep/022417_union_wb_freq/wb_wb2/all_receptors/joined_receptors_non_state_decomp_residue_resolution_filtered.txt\"\n",
    "join_tables(TABLE1, TABLE2, JOINED_TABLE)"
   ]
  },
  {
   "cell_type": "code",
   "execution_count": null,
   "metadata": {
    "collapsed": true
   },
   "outputs": [],
   "source": []
  },
  {
   "cell_type": "code",
   "execution_count": null,
   "metadata": {
    "collapsed": true
   },
   "outputs": [],
   "source": []
  }
 ],
 "metadata": {
  "kernelspec": {
   "display_name": "Python 2",
   "language": "python",
   "name": "python2"
  },
  "language_info": {
   "codemirror_mode": {
    "name": "ipython",
    "version": 2
   },
   "file_extension": ".py",
   "mimetype": "text/x-python",
   "name": "python",
   "nbconvert_exporter": "python",
   "pygments_lexer": "ipython2",
   "version": "2.7.11"
  }
 },
 "nbformat": 4,
 "nbformat_minor": 0
}
