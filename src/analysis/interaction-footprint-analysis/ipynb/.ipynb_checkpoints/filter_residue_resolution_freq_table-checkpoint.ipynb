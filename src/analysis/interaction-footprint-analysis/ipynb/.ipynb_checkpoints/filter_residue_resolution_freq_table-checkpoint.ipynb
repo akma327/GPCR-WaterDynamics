{
 "cells": [
  {
   "cell_type": "code",
   "execution_count": 4,
   "metadata": {
    "collapsed": true
   },
   "outputs": [],
   "source": [
    "# Author: Anthony Kai Kwang Ma\n",
    "# Date: 03/03/2017\n",
    "# filter_residue_resolution_freq_table.py\n",
    "\n",
    "USAGE_STR = \"\"\"\n",
    "# Purpose\n",
    "# Filter out interactions between gpcrdb1, gpcrdb2 if they are within three\n",
    "# indices of each other. \n",
    "\n",
    "# Usage\n",
    "# python filter_residue_resolution_freq_table.py <INPUT_FILE> <OUTPUT_FILE>\n",
    "\n",
    "# Arguments\n",
    "# <INPUT_FILE> Absolute path to input file table\n",
    "# <OUTPUT_FILE> Absolute path to output file table\n",
    "\n",
    "# Example\n",
    "\n",
    "INPUT_FILE=\"/scratch/PI/rondror/akma327/DynamicNetworks/results/non-state-decomposition/residue-resolution-combined-rep/022417_union_wb_freq/wb_wb2/inactive_receptors/inactive_state_decomp_residue_resolution.txt\"\n",
    "OUTPUT_FILE=\"/scratch/PI/rondror/akma327/DynamicNetworks/results/non-state-decomposition/residue-resolution-combined-rep/022417_union_wb_freq/wb_wb2/inactive_receptors/inactive_non_state_decomp_residue_resolution_filtered.txt\"\n",
    "python filter_residue_resolution_freq_table.py $INPUT_FILE $OUTPUT_FILE\n",
    "\n",
    "\"\"\"\n",
    "\n",
    "import sys\n"
   ]
  },
  {
   "cell_type": "code",
   "execution_count": 5,
   "metadata": {
    "collapsed": true
   },
   "outputs": [],
   "source": [
    "def filter_table(INPUT_FILE, OUTPUT_FILE):\n",
    "    fr = open(INPUT_FILE, 'r')\n",
    "    fw = open(OUTPUT_FILE, 'w')\n",
    "    header = fr.readline()\n",
    "    \n",
    "    fw.write(header)\n",
    "    ### Iterate over each row\n",
    "    for line in fr:\n",
    "        linfo = line.strip().split(\"\\t\")\n",
    "        ### See if any of the frequencies are non zero \n",
    "        non_NA_freqs = []\n",
    "        for f in linfo[1:]:\n",
    "            if(f != \"NA\"):\n",
    "                non_NA_freqs.append(float(f))\n",
    "        \n",
    "        \n",
    "        ### Make sure interactions are of non-zero frequency\n",
    "        if(sum(non_NA_freqs) == 0):\n",
    "            pass\n",
    "        gpcrdb1, gpcrdb2 = linfo[0].split(\":\")\n",
    "        tm1, index1 = map(int, gpcrdb1.split(\"x\"))\n",
    "        tm2, index2 = map(int, gpcrdb2.split(\"x\"))\n",
    "        ### Make sure both gpcrdb are tm 1 through 7\n",
    "        if(tm1 < 1 or tm1 > 7): continue\n",
    "        if(tm2 < 1 or tm2 > 7): continue\n",
    "        \n",
    "        ### Make sure interactions are at least 3 amino acids apart\n",
    "        if(tm1 == tm2 and abs(index1 - index2) <=3):\n",
    "            continue\n",
    "        else:\n",
    "            fw.write(line)\n",
    "\n",
    "\n",
    "def filter_ligand_table(INPUT_FILE, OUTPUT_FILE):\n",
    "    fr = open(INPUT_FILE, 'r')\n",
    "    fw = open(OUTPUT_FILE, 'w')\n",
    "    header = fr.readline()\n",
    "    fw.write(header)\n",
    "    for line in fr:\n",
    "        linfo = line.strip().split(\"\\t\")\n",
    "        ligand, gpcrdb = linfo[0].split(\":\")\n",
    "        tm, index = map(int, gpcrdb.split(\"x\"))\n",
    "        if(tm < 1 or tm > 7): continue\n",
    "        fw.write(line)\n",
    "\n"
   ]
  },
  {
   "cell_type": "code",
   "execution_count": 6,
   "metadata": {
    "collapsed": true
   },
   "outputs": [],
   "source": [
    "# 050417\n",
    "\n",
    "# lwb active\n",
    "inp=\"/scratch/PI/rondror/akma327/DynamicNetworks/results/non-state-decomposition/residue-resolution-combined-rep/050417_union_wb_freq/lwb/active_receptors/active_non_state_decomp_residue_resolution.txt\"\n",
    "outp=\"/scratch/PI/rondror/akma327/DynamicNetworks/results/non-state-decomposition/residue-resolution-combined-rep/050417_union_wb_freq/lwb/active_receptors/active_non_state_decomp_residue_resolution_filtered.txt\"\n",
    "filter_ligand_table(inp, outp)\n",
    "\n",
    "# lwb inactive\n",
    "inp=\"/scratch/PI/rondror/akma327/DynamicNetworks/results/non-state-decomposition/residue-resolution-combined-rep/050417_union_wb_freq/lwb/inactive_receptors/inactive_non_state_decomp_residue_resolution.txt\"\n",
    "outp=\"/scratch/PI/rondror/akma327/DynamicNetworks/results/non-state-decomposition/residue-resolution-combined-rep/050417_union_wb_freq/lwb/inactive_receptors/inactive_non_state_decomp_residue_resolution_filtered.txt\"\n",
    "filter_ligand_table(inp, outp)\n",
    "\n",
    "\n",
    "# lwb2 active\n",
    "inp=\"/scratch/PI/rondror/akma327/DynamicNetworks/results/non-state-decomposition/residue-resolution-combined-rep/050417_union_wb_freq/lwb2/active_receptors/active_non_state_decomp_residue_resolution.txt\"\n",
    "outp=\"/scratch/PI/rondror/akma327/DynamicNetworks/results/non-state-decomposition/residue-resolution-combined-rep/050417_union_wb_freq/lwb2/active_receptors/active_non_state_decomp_residue_resolution_filtered.txt\"\n",
    "filter_ligand_table(inp, outp)\n",
    "\n",
    "# lwb2 inactive\n",
    "inp=\"/scratch/PI/rondror/akma327/DynamicNetworks/results/non-state-decomposition/residue-resolution-combined-rep/050417_union_wb_freq/lwb2/inactive_receptors/inactive_non_state_decomp_residue_resolution.txt\"\n",
    "outp=\"/scratch/PI/rondror/akma327/DynamicNetworks/results/non-state-decomposition/residue-resolution-combined-rep/050417_union_wb_freq/lwb2/inactive_receptors/inactive_non_state_decomp_residue_resolution_filtered.txt\"\n",
    "filter_ligand_table(inp, outp)\n",
    "\n",
    "\n",
    "# Active Simulation\n",
    "INPUT_FILE=\"/scratch/PI/rondror/akma327/DynamicNetworks/results/non-state-decomposition/residue-resolution-combined-rep/050417_union_wb_freq/wb_wb2/active_receptors/active_non_state_decomp_residue_resolution.txt\"\n",
    "OUTPUT_FILE=\"/scratch/PI/rondror/akma327/DynamicNetworks/results/non-state-decomposition/residue-resolution-combined-rep/050417_union_wb_freq/wb_wb2/active_receptors/active_non_state_decomp_residue_resolution_filtered.txt\"\n",
    "filter_table(INPUT_FILE, OUTPUT_FILE)\n",
    "\n",
    "# Inactive Simulation\n",
    "INPUT_FILE=\"/scratch/PI/rondror/akma327/DynamicNetworks/results/non-state-decomposition/residue-resolution-combined-rep/050417_union_wb_freq/wb_wb2/inactive_receptors/inactive_non_state_decomp_residue_resolution.txt\"\n",
    "OUTPUT_FILE=\"/scratch/PI/rondror/akma327/DynamicNetworks/results/non-state-decomposition/residue-resolution-combined-rep/050417_union_wb_freq/wb_wb2/inactive_receptors/inactive_non_state_decomp_residue_resolution_filtered.txt\"\n",
    "filter_table(INPUT_FILE, OUTPUT_FILE)\n",
    "\n",
    "\n"
   ]
  },
  {
   "cell_type": "code",
   "execution_count": 12,
   "metadata": {
    "collapsed": true
   },
   "outputs": [],
   "source": [
    "# lwb active\n",
    "inp=\"/scratch/PI/rondror/akma327/DynamicNetworks/results/non-state-decomposition/residue-resolution-combined-rep/040117_union_wb_freq/lwb/active_receptors/active_non_state_decomp_residue_resolution.txt\"\n",
    "outp=\"/scratch/PI/rondror/akma327/DynamicNetworks/results/non-state-decomposition/residue-resolution-combined-rep/040117_union_wb_freq/lwb/active_receptors/active_non_state_decomp_residue_resolution_filtered.txt\"\n",
    "filter_ligand_table(inp, outp)\n",
    "\n",
    "# lwb inactive\n",
    "inp=\"/scratch/PI/rondror/akma327/DynamicNetworks/results/non-state-decomposition/residue-resolution-combined-rep/040117_union_wb_freq/lwb/inactive_receptors/inactive_non_state_decomp_residue_resolution.txt\"\n",
    "outp=\"/scratch/PI/rondror/akma327/DynamicNetworks/results/non-state-decomposition/residue-resolution-combined-rep/040117_union_wb_freq/lwb/inactive_receptors/inactive_non_state_decomp_residue_resolution_filtered.txt\"\n",
    "filter_ligand_table(inp, outp)\n",
    "\n",
    "\n",
    "# lwb2 active\n",
    "inp=\"/scratch/PI/rondror/akma327/DynamicNetworks/results/non-state-decomposition/residue-resolution-combined-rep/040117_union_wb_freq/lwb2/active_receptors/active_non_state_decomp_residue_resolution.txt\"\n",
    "outp=\"/scratch/PI/rondror/akma327/DynamicNetworks/results/non-state-decomposition/residue-resolution-combined-rep/040117_union_wb_freq/lwb2/active_receptors/active_non_state_decomp_residue_resolution_filtered.txt\"\n",
    "filter_ligand_table(inp, outp)\n",
    "\n",
    "# lwb2 inactive\n",
    "inp=\"/scratch/PI/rondror/akma327/DynamicNetworks/results/non-state-decomposition/residue-resolution-combined-rep/040117_union_wb_freq/lwb2/inactive_receptors/inactive_non_state_decomp_residue_resolution.txt\"\n",
    "outp=\"/scratch/PI/rondror/akma327/DynamicNetworks/results/non-state-decomposition/residue-resolution-combined-rep/040117_union_wb_freq/lwb2/inactive_receptors/inactive_non_state_decomp_residue_resolution_filtered.txt\"\n",
    "filter_ligand_table(inp, outp)\n",
    "\n",
    "\n"
   ]
  },
  {
   "cell_type": "code",
   "execution_count": null,
   "metadata": {
    "collapsed": true
   },
   "outputs": [],
   "source": [
    "# 040217_union_wb_freq\n",
    "\n",
    "# MOR_active\n",
    "inp=\"/scratch/PI/rondror/akma327/DynamicNetworks/results/non-state-decomposition/residue-resolution-combined-rep/033117_crystal_vs_simulation/MOR_active/crystal/MOR_active_crystal.txt\"\n",
    "outp=\"/scratch/PI/rondror/akma327/DynamicNetworks/results/non-state-decomposition/residue-resolution-combined-rep/033117_crystal_vs_simulation/MOR_active/crystal/MOR_active_crystal_filtered.txt\"\n",
    "filter_table(inp, outp)\n",
    "\n",
    "inp=\"/scratch/PI/rondror/akma327/DynamicNetworks/results/non-state-decomposition/residue-resolution-combined-rep/033117_crystal_vs_simulation/MOR_active/simulation/MOR_active_simulation.txt\"\n",
    "outp=\"/scratch/PI/rondror/akma327/DynamicNetworks/results/non-state-decomposition/residue-resolution-combined-rep/033117_crystal_vs_simulation/MOR_active/simulation/MOR_active_simulation_filtered.txt\"\n",
    "filter_table(inp, outp)\n",
    "\n",
    "# B2AR_inactive\n",
    "inp=\"/scratch/PI/rondror/akma327/DynamicNetworks/results/non-state-decomposition/residue-resolution-combined-rep/033117_crystal_vs_simulation/B2AR_inactive/crystal/B2AR_inactive_crystal.txt\"\n",
    "outp=\"/scratch/PI/rondror/akma327/DynamicNetworks/results/non-state-decomposition/residue-resolution-combined-rep/033117_crystal_vs_simulation/B2AR_inactive/crystal/B2AR_inactive_crystal_filtered.txt\"\n",
    "filter_table(inp, outp)\n",
    "\n",
    "inp=\"/scratch/PI/rondror/akma327/DynamicNetworks/results/non-state-decomposition/residue-resolution-combined-rep/033117_crystal_vs_simulation/B2AR_inactive/simulation/B2AR_inactive_simulation.txt\"\n",
    "outp=\"/scratch/PI/rondror/akma327/DynamicNetworks/results/non-state-decomposition/residue-resolution-combined-rep/033117_crystal_vs_simulation/B2AR_inactive/simulation/B2AR_inactive_simulation_filtered.txt\"\n",
    "filter_table(inp, outp)\n",
    "\n",
    "# DOR_inactive\n",
    "inp=\"/scratch/PI/rondror/akma327/DynamicNetworks/results/non-state-decomposition/residue-resolution-combined-rep/033117_crystal_vs_simulation/DOR_inactive/crystal/DOR_inactive_crystal.txt\"\n",
    "outp=\"/scratch/PI/rondror/akma327/DynamicNetworks/results/non-state-decomposition/residue-resolution-combined-rep/033117_crystal_vs_simulation/DOR_inactive/crystal/DOR_inactive_crystal_filtered.txt\"\n",
    "filter_table(inp, outp)\n",
    "\n",
    "inp=\"/scratch/PI/rondror/akma327/DynamicNetworks/results/non-state-decomposition/residue-resolution-combined-rep/033117_crystal_vs_simulation/DOR_inactive/simulation/DOR_inactive_simulation.txt\"\n",
    "outp=\"/scratch/PI/rondror/akma327/DynamicNetworks/results/non-state-decomposition/residue-resolution-combined-rep/033117_crystal_vs_simulation/DOR_inactive/simulation/DOR_inactive_simulation_filtered.txt\"\n",
    "filter_table(inp, outp)\n",
    "\n",
    "# M2R_inactive\n",
    "inp=\"/scratch/PI/rondror/akma327/DynamicNetworks/results/non-state-decomposition/residue-resolution-combined-rep/033117_crystal_vs_simulation/M2R_inactive/crystal/M2R_inactive_crystal.txt\"\n",
    "outp=\"/scratch/PI/rondror/akma327/DynamicNetworks/results/non-state-decomposition/residue-resolution-combined-rep/033117_crystal_vs_simulation/M2R_inactive/crystal/M2R_inactive_crystal_filtered.txt\"\n",
    "filter_table(inp, outp)\n",
    "\n",
    "inp=\"/scratch/PI/rondror/akma327/DynamicNetworks/results/non-state-decomposition/residue-resolution-combined-rep/033117_crystal_vs_simulation/M2R_inactive/simulation/M2R_inactive_simulation.txt\"\n",
    "outp=\"/scratch/PI/rondror/akma327/DynamicNetworks/results/non-state-decomposition/residue-resolution-combined-rep/033117_crystal_vs_simulation/M2R_inactive/simulation/M2R_inactive_simulation_filtered.txt\"\n",
    "filter_table(inp, outp)\n",
    "\n",
    "\n",
    "# MOR_inactive\n",
    "inp=\"/scratch/PI/rondror/akma327/DynamicNetworks/results/non-state-decomposition/residue-resolution-combined-rep/033117_crystal_vs_simulation/MOR_inactive/crystal/MOR_inactive_crystal.txt\"\n",
    "outp=\"/scratch/PI/rondror/akma327/DynamicNetworks/results/non-state-decomposition/residue-resolution-combined-rep/033117_crystal_vs_simulation/MOR_inactive/crystal/MOR_inactive_crystal_filtered.txt\"\n",
    "filter_table(inp, outp)\n",
    "\n",
    "inp=\"/scratch/PI/rondror/akma327/DynamicNetworks/results/non-state-decomposition/residue-resolution-combined-rep/033117_crystal_vs_simulation/MOR_inactive/crystal/MOR_inactive_crystal.txt\"\n",
    "outp=\"/scratch/PI/rondror/akma327/DynamicNetworks/results/non-state-decomposition/residue-resolution-combined-rep/033117_crystal_vs_simulation/MOR_inactive/crystal/MOR_inactive_crystal_filtered.txt\"\n",
    "filter_table(inp, outp)\n",
    "\n",
    "\n"
   ]
  },
  {
   "cell_type": "code",
   "execution_count": 9,
   "metadata": {
    "collapsed": false
   },
   "outputs": [],
   "source": [
    "# 040117_union_wb_freq \n",
    "# All interactions throughout simulation not just those in crystal structure\n",
    "\n",
    "# Active Simulation\n",
    "INPUT_FILE=\"/scratch/PI/rondror/akma327/DynamicNetworks/results/non-state-decomposition/residue-resolution-combined-rep/040117_union_wb_freq/wb_wb2/active_receptors/active_non_state_decomp_residue_resolution.txt\"\n",
    "OUTPUT_FILE=\"/scratch/PI/rondror/akma327/DynamicNetworks/results/non-state-decomposition/residue-resolution-combined-rep/040117_union_wb_freq/wb_wb2/active_receptors/active_non_state_decomp_residue_resolution_filtered.txt\"\n",
    "filter_table(INPUT_FILE, OUTPUT_FILE)\n",
    "\n",
    "# Inactive Simulation\n",
    "INPUT_FILE=\"/scratch/PI/rondror/akma327/DynamicNetworks/results/non-state-decomposition/residue-resolution-combined-rep/040117_union_wb_freq/wb_wb2/inactive_receptors/inactive_non_state_decomp_residue_resolution.txt\"\n",
    "OUTPUT_FILE=\"/scratch/PI/rondror/akma327/DynamicNetworks/results/non-state-decomposition/residue-resolution-combined-rep/040117_union_wb_freq/wb_wb2/inactive_receptors/inactive_non_state_decomp_residue_resolution_filtered.txt\"\n",
    "filter_table(INPUT_FILE, OUTPUT_FILE)\n",
    "\n"
   ]
  },
  {
   "cell_type": "code",
   "execution_count": 6,
   "metadata": {
    "collapsed": false
   },
   "outputs": [],
   "source": [
    "# MOR active crystal\n",
    "INPUT_FILE=\"/scratch/PI/rondror/akma327/DynamicNetworks/results/non-state-decomposition/residue-resolution-combined-rep/032717_crystal_vs_simulation/crystal/MOR_active/MOR_active_crystal.txt\"\n",
    "OUTPUT_FILE=\"/scratch/PI/rondror/akma327/DynamicNetworks/results/non-state-decomposition/residue-resolution-combined-rep/032717_crystal_vs_simulation/crystal/MOR_active/MOR_active_crystal_filtered.txt\"\n",
    "filter_table(INPUT_FILE, OUTPUT_FILE)\n",
    "\n",
    "\n",
    "# MOR active simulation\n",
    "INPUT_FILE=\"/scratch/PI/rondror/akma327/DynamicNetworks/results/non-state-decomposition/residue-resolution-combined-rep/032717_crystal_vs_simulation/simulation/MOR_active/MOR_active_simulation.txt\"\n",
    "OUTPUT_FILE=\"/scratch/PI/rondror/akma327/DynamicNetworks/results/non-state-decomposition/residue-resolution-combined-rep/032717_crystal_vs_simulation/simulation/MOR_active/MOR_active_simulation_filtered.txt\"\n",
    "filter_table(INPUT_FILE, OUTPUT_FILE)\n"
   ]
  },
  {
   "cell_type": "code",
   "execution_count": 3,
   "metadata": {
    "collapsed": true
   },
   "outputs": [],
   "source": [
    "# MOR inactive crystal\n",
    "INPUT_FILE=\"/scratch/PI/rondror/akma327/DynamicNetworks/results/non-state-decomposition/residue-resolution-combined-rep/032717_crystal_vs_simulation/crystal/MOR_inactive/MOR_inactive_crystal.txt\"\n",
    "OUTPUT_FILE=\"/scratch/PI/rondror/akma327/DynamicNetworks/results/non-state-decomposition/residue-resolution-combined-rep/032717_crystal_vs_simulation/crystal/MOR_inactive/MOR_inactive_crystal_filtered.txt\"\n",
    "filter_table(INPUT_FILE, OUTPUT_FILE)\n",
    "\n",
    "\n",
    "# MOR inactive simulation\n",
    "INPUT_FILE=\"/scratch/PI/rondror/akma327/DynamicNetworks/results/non-state-decomposition/residue-resolution-combined-rep/032717_crystal_vs_simulation/simulation/MOR_inactive/MOR_inactive_simulation.txt\"\n",
    "OUTPUT_FILE=\"/scratch/PI/rondror/akma327/DynamicNetworks/results/non-state-decomposition/residue-resolution-combined-rep/032717_crystal_vs_simulation/simulation/MOR_inactive/MOR_inactive_simulation_filtered.txt\"\n",
    "filter_table(INPUT_FILE, OUTPUT_FILE)\n"
   ]
  },
  {
   "cell_type": "code",
   "execution_count": 43,
   "metadata": {
    "collapsed": false
   },
   "outputs": [],
   "source": [
    "# Inactive Receptors\n",
    "INPUT_FILE=\"/scratch/PI/rondror/akma327/DynamicNetworks/results/non-state-decomposition/residue-resolution-combined-rep/022417_union_wb_freq/wb_wb2/inactive_receptors/inactive_non_state_decomp_residue_resolution_NA.txt\"\n",
    "OUTPUT_FILE=\"/scratch/PI/rondror/akma327/DynamicNetworks/results/non-state-decomposition/residue-resolution-combined-rep/022417_union_wb_freq/wb_wb2/inactive_receptors/inactive_non_state_decomp_residue_resolution_filtered_NA.txt\"\n",
    "filter_table(INPUT_FILE, OUTPUT_FILE)"
   ]
  },
  {
   "cell_type": "code",
   "execution_count": 45,
   "metadata": {
    "collapsed": true
   },
   "outputs": [],
   "source": [
    "# Active Receptors\n",
    "INPUT_FILE=\"/scratch/PI/rondror/akma327/DynamicNetworks/results/non-state-decomposition/residue-resolution-combined-rep/022417_union_wb_freq/wb_wb2/active_receptors/active_non_state_decomp_residue_resolution_NA.txt\"\n",
    "OUTPUT_FILE=\"/scratch/PI/rondror/akma327/DynamicNetworks/results/non-state-decomposition/residue-resolution-combined-rep/022417_union_wb_freq/wb_wb2/active_receptors/active_non_state_decomp_residue_resolution_filtered_NA.txt\"\n",
    "filter_table(INPUT_FILE, OUTPUT_FILE)"
   ]
  },
  {
   "cell_type": "code",
   "execution_count": null,
   "metadata": {
    "collapsed": true
   },
   "outputs": [],
   "source": []
  }
 ],
 "metadata": {
  "kernelspec": {
   "display_name": "Python 2",
   "language": "python",
   "name": "python2"
  },
  "language_info": {
   "codemirror_mode": {
    "name": "ipython",
    "version": 2
   },
   "file_extension": ".py",
   "mimetype": "text/x-python",
   "name": "python",
   "nbconvert_exporter": "python",
   "pygments_lexer": "ipython2",
   "version": "2.7.11"
  }
 },
 "nbformat": 4,
 "nbformat_minor": 0
}
