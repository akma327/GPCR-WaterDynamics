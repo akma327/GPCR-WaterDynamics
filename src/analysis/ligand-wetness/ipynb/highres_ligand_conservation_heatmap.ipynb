{
 "cells": [
  {
   "cell_type": "code",
   "execution_count": 1,
   "metadata": {
    "collapsed": true
   },
   "outputs": [],
   "source": [
    "import sys\n",
    "import glob"
   ]
  },
  {
   "cell_type": "code",
   "execution_count": 2,
   "metadata": {
    "collapsed": true
   },
   "outputs": [],
   "source": [
    "# Utils.py\n",
    "\n",
    "PDB_TO_UNIPROT_TABLE_PATH = \"/scratch/PI/rondror/akma327/DynamicNetworks/data/crystal-analysis/simulation-analysis/gpcrdb-freq-config/GPCR_PDB_List.txt\"\n",
    "GPCRDB_TABLE_PATH=\"/scratch/PI/rondror/akma327/DynamicNetworks/data/crystal-analysis/simulation-analysis/gpcrdb-freq-config/All_species_gpcrdb_numbers_strOnly.txt\"\n",
    "GPCRDB_RESIDUE_FREQ_TABLE=\"/scratch/PI/rondror/akma327/DynamicNetworks/data/crystal-analysis/simulation-analysis/gpcrdb-freq-config/gpcrdb_residue_conservation.txt\"\n",
    "\n",
    "\n",
    "# Rename amino acids to common name\n",
    "def fixAminoAcidNames(key):\n",
    "\tkey = key.replace(\"HSD\", \"HIS\")\n",
    "\tkey = key.replace(\"HSE\", \"HIS\")\n",
    "\tkey = key.replace(\"HSP\", \"HIS\")\n",
    "\tkey = key.replace(\"HIE\", \"HIS\")\n",
    "\tkey = key.replace(\"HIP\", \"HIS\")\n",
    "\tkey = key.replace(\"HID\", \"HIS\")\n",
    "\tkey = key.replace(\"GLH\", \"GLU\")\n",
    "\tkey = key.replace(\"ASH\", \"ASP\")\n",
    "\tkey = key.replace(\"CYP\", \"CYS\")\n",
    "\tkey = key.replace(\"CYX\", \"CYS\")\n",
    "\treturn key\n",
    "\n",
    "# Retrive gpcrdb from dictionary for specified residue. Return \"-\" if not found\n",
    "def getGPCRDB(res, GPCRDB_DICT):\n",
    "\tres = fixAminoAcidNames(res)\n",
    "\tif(res not in GPCRDB_DICT):\n",
    "\t\tprint(res + \" not found.\")\n",
    "\t\treturn \"-\"\n",
    "\treturn GPCRDB_DICT[res]\n",
    "\n",
    "# Create directory if not exist\n",
    "def createDirectory(OUTPUT_FILE):\n",
    "\tdirectory = os.path.dirname(OUTPUT_FILE)\n",
    "\tif not os.path.exists(directory):\n",
    "\t\tos.makedirs(directory)\n",
    "\n",
    "# Generate write file descriptor \n",
    "def genWriteDescriptor(OUTPUT_FILE):\n",
    "\tcreateDirectory(OUTPUT_FILE)\n",
    "\treturn open(OUTPUT_FILE, 'w')\n",
    "\n",
    "\n",
    "# Retrieve Uniprot Code for the PDB_CODE from pdb_to_uniprot_table_path\n",
    "def getUniprotCode(PDB_CODE):\n",
    "\tf = open(PDB_TO_UNIPROT_TABLE_PATH, 'r')\n",
    "\tfor line in f:\n",
    "\t\tif(line == \"\\n\"): continue \n",
    "\t\tl_info = line.split(\"\\t\")\n",
    "\t\tuniprot_code, pdb = l_info[0].strip(), l_info[2].strip()\n",
    "\t\tif(PDB_CODE.upper() == pdb.upper()): return uniprot_code.upper()\n",
    "\tprint(\"PDB_CODE Not Found in PDB To Uniprot Table\")\n",
    "\texit(1)\n",
    "\n",
    "\n",
    "# Given uniprot code reads through GPCRDB_TABLE_PATH to generate the amino acid\n",
    "# to gpcrdb number table. \n",
    "# Output {\"ASP112\": \"1x50\", \"ARG116\":\"2x45\"}\n",
    "def genGpcrdbDict(UNIPROT_CODE):\n",
    "\tGPCRDB_DICT = {}\n",
    "\tf = open(GPCRDB_TABLE_PATH, 'r')\n",
    "\tfor line in f: \n",
    "\t\tl_info = line.split(\"\\t\")\n",
    "\t\tuniprot, resnum, resname, gpcrdb = l_info[0].strip(), l_info[1].strip(), l_info[2].strip(), l_info[4].strip()\n",
    "\t\tif(uniprot.upper() == UNIPROT_CODE.upper()):\n",
    "\t\t\tkey = resname.upper() + resnum \n",
    "\t\t\tGPCRDB_DICT[key] = gpcrdb\n",
    "\treturn GPCRDB_DICT\n",
    "\n",
    "\n",
    "# Generates the residue to gpcrdb table for given pdb\n",
    "def genResidueToGpcrdbTable(PDB_CODE):\n",
    "\tUNIPROT_CODE = getUniprotCode(PDB_CODE)\n",
    "\tGPCRDB_DICT = genGpcrdbDict(UNIPROT_CODE)\n",
    "\treturn GPCRDB_DICT\n"
   ]
  },
  {
   "cell_type": "code",
   "execution_count": 13,
   "metadata": {
    "collapsed": false
   },
   "outputs": [],
   "source": [
    "def orderpair(atom1, atom2):\n",
    "    if(\"LIG\" in atom1): return (atom1, atom2)\n",
    "    return (atom2, atom1)\n",
    "\n",
    "def write_table(pdb_to_lw, OUTPUT_TABLE):\n",
    "    f = open(OUTPUT_TABLE, 'w')\n",
    "    pdbs = pdb_to_lw.keys()\n",
    "    all_gpcrdb = set()\n",
    "    for pdb in pdb_to_lw:\n",
    "        all_gpcrdb |= set(pdb_to_lw[pdb])\n",
    "    header = \"GPCRDB\\t\" + \"\\t\".join(pdbs)\n",
    "    f.write(header + \"\\n\")\n",
    "    all_rows = []\n",
    "    for gpcrdb in all_gpcrdb:\n",
    "        row_info = [\"LIGxLIG\", gpcrdb[0], gpcrdb[1]]\n",
    "        for pdb in pdbs:\n",
    "            if(gpcrdb not in pdb_to_lw[pdb]):\n",
    "                row_info.append(\"0\")\n",
    "            else:\n",
    "                row_info.append(\"1\")\n",
    "        all_rows.append(row_info)\n",
    "        \n",
    "#         f.write(\"\\t\".join(row_info)+\"\\n\")\n",
    "    all_rows.sort(key=lambda x:x[2])\n",
    "    print(all_rows)\n",
    "    for row_info in all_rows:\n",
    "        f.write(\":\".join(row_info[0:3]) + \"\\t\" + \"\\t\".join(row_info[3:]) + \"\\n\")\n",
    "#         f.write(\"\\t\".join(row_info)+\"\\n\")\n",
    "#         print(\":\".join(row_info[0:3]) + \"\\t\" + row_info[3:]) \n",
    "#         f.write(\":\".join(row_info[0:3]) + \"\\t\" + \"\\t\".join(row_info[3:]) + \"\\n\"))\n",
    "#         f.write(\"\\t\".join(row_info) + \"\\n\")\n",
    "        \n",
    "def extract_lw_info(INPUT_DIR):\n",
    "    pdb_to_lw = {}\n",
    "    pdb_files = glob.glob(INPUT_DIR + \"/*txt\")\n",
    "    for index, pdb_file in enumerate(pdb_files):\n",
    "        \n",
    "        pdb = pdb_file.strip().split(\"/\")[-1].strip(\".txt\")\n",
    "        if(len(pdb) != 4): \n",
    "            continue\n",
    "            \n",
    "        ### Process each pdb file for its ligand residue interactions\n",
    "        pdb_to_lw[pdb] = []\n",
    "        GPCRDB_DICT = genResidueToGpcrdbTable(pdb)\n",
    "        f = open(pdb_file, 'r')\n",
    "        for line in f:\n",
    "            linfo = line.strip().split(\"@\")\n",
    "            interaction_type = linfo[1].strip(\"-\")\n",
    "            atom1, atom2 = linfo[0].split(\" -- \")\n",
    "            ligand, residue_atom = orderpair(atom1, atom2)\n",
    "            residue = residue_atom.split(\"-\")[0]\n",
    "            gpcrdb = getGPCRDB(residue, GPCRDB_DICT)\n",
    "            if(gpcrdb != None and gpcrdb != \"None\"):\n",
    "                pdb_to_lw[pdb].append((gpcrdb, interaction_type))\n",
    "                \n",
    "    return pdb_to_lw\n",
    "        \n",
    "def heatmap(INPUT_DIR, OUTPUT_TABLE):\n",
    "    pdb_to_lw = extract_lw_info(INPUT_DIR)\n",
    "    write_table(pdb_to_lw, OUTPUT_TABLE)\n"
   ]
  },
  {
   "cell_type": "code",
   "execution_count": 14,
   "metadata": {
    "collapsed": false
   },
   "outputs": [
    {
     "name": "stdout",
     "output_type": "stream",
     "text": [
      "[]\n"
     ]
    }
   ],
   "source": [
    "INPUT_DIR=\"/scratch/PI/rondror/akma327/DynamicNetworks/data/crystal-analysis/ligand-wetness/highres_conserved_ligand_interactions/021617\"\n",
    "OUTPUT_TABLE=\"/scratch/PI/rondror/akma327/DynamicNetworks/data/crystal-analysis/ligand-wetness/highres_conserved_ligand_interactions/021617/highres_ligand_conservation_heatmap.txt\""
   ]
  },
  {
   "cell_type": "code",
   "execution_count": null,
   "metadata": {
    "collapsed": true
   },
   "outputs": [],
   "source": []
  }
 ],
 "metadata": {
  "kernelspec": {
   "display_name": "Python 2",
   "language": "python",
   "name": "python2"
  },
  "language_info": {
   "codemirror_mode": {
    "name": "ipython",
    "version": 2
   },
   "file_extension": ".py",
   "mimetype": "text/x-python",
   "name": "python",
   "nbconvert_exporter": "python",
   "pygments_lexer": "ipython2",
   "version": "2.7.11"
  }
 },
 "nbformat": 4,
 "nbformat_minor": 0
}
