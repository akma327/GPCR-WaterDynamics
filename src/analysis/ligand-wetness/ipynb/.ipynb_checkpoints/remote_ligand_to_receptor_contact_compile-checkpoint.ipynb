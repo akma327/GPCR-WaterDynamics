{
 "cells": [
  {
   "cell_type": "code",
   "execution_count": 8,
   "metadata": {
    "collapsed": true
   },
   "outputs": [],
   "source": [
    "import glob\n",
    "import pandas as pd"
   ]
  },
  {
   "cell_type": "code",
   "execution_count": 23,
   "metadata": {
    "collapsed": true
   },
   "outputs": [],
   "source": [
    "def get_pos_freq(f):\n",
    "\n",
    "def compile_tables(INPUT_DIR):\n",
    "    files = glob.glob(INPUT_DIR + \"/*\")\n",
    "    for f in files:\n",
    "        "
   ]
  },
  {
   "cell_type": "code",
   "execution_count": 24,
   "metadata": {
    "collapsed": false
   },
   "outputs": [
    {
     "name": "stdout",
     "output_type": "stream",
     "text": [
      "/scratch/PI/rondror/akma327/DynamicNetworks/data/crystal-analysis/ligand-wetness/remote_ligand_to_receptor_contacts/020717/inactive_receptors/MOR:inactive:bFNA-antagonist-bound_to_K233:1.21us.csv\n",
      "/scratch/PI/rondror/akma327/DynamicNetworks/data/crystal-analysis/ligand-wetness/remote_ligand_to_receptor_contacts/020717/inactive_receptors/D4R:inactive:nemanopride:deprotonated:1.3us.csv\n",
      "/scratch/PI/rondror/akma327/DynamicNetworks/data/crystal-analysis/ligand-wetness/remote_ligand_to_receptor_contacts/020717/inactive_receptors/D4R:inactive:nemanopride:deprotonated:1.50us.csv\n",
      "/scratch/PI/rondror/akma327/DynamicNetworks/data/crystal-analysis/ligand-wetness/remote_ligand_to_receptor_contacts/020717/inactive_receptors/MOR:inactive:bFNA-antagonist-bound_to_K233:1.42us.csv\n",
      "/scratch/PI/rondror/akma327/DynamicNetworks/data/crystal-analysis/ligand-wetness/remote_ligand_to_receptor_contacts/020717/inactive_receptors/MOR:inactive:bFNA-antagonist-bound_to_K233:0.63us.csv\n",
      "/scratch/PI/rondror/akma327/DynamicNetworks/data/crystal-analysis/ligand-wetness/remote_ligand_to_receptor_contacts/020717/inactive_receptors/DOR:inactive:naltrindole:3.0us.csv\n",
      "/scratch/PI/rondror/akma327/DynamicNetworks/data/crystal-analysis/ligand-wetness/remote_ligand_to_receptor_contacts/020717/inactive_receptors/D4R:inactive:nemanopride:deprotonated:1.5us.csv\n",
      "/scratch/PI/rondror/akma327/DynamicNetworks/data/crystal-analysis/ligand-wetness/remote_ligand_to_receptor_contacts/020717/inactive_receptors/M2R:inactive:QNB-orthosteric:16.4us.csv\n",
      "/scratch/PI/rondror/akma327/DynamicNetworks/data/crystal-analysis/ligand-wetness/remote_ligand_to_receptor_contacts/020717/inactive_receptors/DOR:inactive:naltrindole:1.3us.csv\n",
      "/scratch/PI/rondror/akma327/DynamicNetworks/data/crystal-analysis/ligand-wetness/remote_ligand_to_receptor_contacts/020717/inactive_receptors/B2AR:inactive:carazalol:10us:D79-,D130-.csv\n",
      "/scratch/PI/rondror/akma327/DynamicNetworks/data/crystal-analysis/ligand-wetness/remote_ligand_to_receptor_contacts/020717/inactive_receptors/DOR:inactive:naltrindole:2.0us.csv\n",
      "/scratch/PI/rondror/akma327/DynamicNetworks/data/crystal-analysis/ligand-wetness/remote_ligand_to_receptor_contacts/020717/inactive_receptors/M2R:inactive:QNB-orthosteric-no-allosteric:10us.csv\n"
     ]
    }
   ],
   "source": [
    "INACTIVE_RECEPTORS=\"/scratch/PI/rondror/akma327/DynamicNetworks/data/crystal-analysis/ligand-wetness/remote_ligand_to_receptor_contacts/020717/inactive_receptors\"\n",
    "compile_tables(INACTIVE_RECEPTORS)"
   ]
  },
  {
   "cell_type": "code",
   "execution_count": null,
   "metadata": {
    "collapsed": true
   },
   "outputs": [],
   "source": []
  }
 ],
 "metadata": {
  "kernelspec": {
   "display_name": "Python 2",
   "language": "python",
   "name": "python2"
  },
  "language_info": {
   "codemirror_mode": {
    "name": "ipython",
    "version": 2
   },
   "file_extension": ".py",
   "mimetype": "text/x-python",
   "name": "python",
   "nbconvert_exporter": "python",
   "pygments_lexer": "ipython2",
   "version": "2.7.11"
  }
 },
 "nbformat": 4,
 "nbformat_minor": 0
}
