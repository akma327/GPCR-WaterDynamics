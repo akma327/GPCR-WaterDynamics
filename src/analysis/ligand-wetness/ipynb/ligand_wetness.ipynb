{
 "cells": [
  {
   "cell_type": "code",
   "execution_count": 43,
   "metadata": {
    "collapsed": true
   },
   "outputs": [],
   "source": [
    "import sys\n",
    "import glob\n",
    "import ast\n",
    "\n",
    "USAGE_STR = \"\"\"\n",
    "# Purpose\n",
    "# Input: ligand to water hydrogen bond binary dictionary file\n",
    "# Output: Determines the percentage of frames each part of the ligand\n",
    "# is making contact with some water. \n",
    "\n",
    "# Usage\n",
    "# python ligand_wetness.py <OUTPUT_FILE>\n",
    "\n",
    "# Arguments\n",
    "# <OUTPUT_FILE> Absolute path to write frequencies for all ligand\n",
    "# water interactions across the experiment condition of interest. \n",
    "\n",
    "# Example\n",
    "BIN_DICT_FILE=\"/scratch/PI/rondror/akma327/DynamicNetworks/data/DynamicNetworksOutput/InteractionOutputDictionary/MOR-active-noNb-BU72-nature2015/condition-nb-interface-restrained-BU72/rep_1/050516_NONHB_DEFAULT_HB_3.5_70/ligand_water_hydrogen_bond_result_dict.txt\"\n",
    "python ligand_wetness.py $BIN_DICT_FILE\n",
    "\n",
    "\"\"\""
   ]
  },
  {
   "cell_type": "code",
   "execution_count": 46,
   "metadata": {
    "collapsed": false
   },
   "outputs": [],
   "source": [
    "def sort_ligand_water(atom1, atom2):\n",
    "    if(\"LIG\" in atom1): return (atom1, atom2)\n",
    "    else: return (atom2, atom1)\n",
    "\n",
    "def calc_ligand_wetness(fw, BIN_DICT_FILE):\n",
    "    \n",
    "    ### Parse ligand water interaction binary dictionary\n",
    "    f = open(BIN_DICT_FILE, 'r')\n",
    "    nFrames = None\n",
    "    ligand_part_to_frames = {} # key: LIG-OAD, value: [3,45,311,3333]\n",
    "    for line in f:\n",
    "        if(\"TotalFrames\" in line):\n",
    "            nFrames = int(line.split(\"TotalFrames:\")[1].strip())\n",
    "        if(\"~\" in line):\n",
    "            linfo = line.strip().split(\"~\")\n",
    "            tp = set(ast.literal_eval(linfo[1])) # Timepoints\n",
    "            atom1, atom2 = linfo[0].split(\" -- \")\n",
    "            ligand, water = sort_ligand_water(atom1, atom2)\n",
    "            if(ligand not in ligand_part_to_frames):\n",
    "                ligand_part_to_frames[ligand] = tp\n",
    "            else:\n",
    "                ligand_part_to_frames[ligand] |= tp\n",
    "            \n",
    "    ### Ligand Wetness\n",
    "    fw.write(\":\".join(BIN_DICT_FILE.split(\"/\")[9:12]) + \"\\n\")\n",
    "    for ligand_part in ligand_part_to_frames:\n",
    "        freq = float(len(ligand_part_to_frames[ligand_part]))/ nFrames\n",
    "        fw.write(\"%s : %f\\n\" % (ligand_part, freq))\n",
    "    fw.write(\"\\n\")\n"
   ]
  },
  {
   "cell_type": "code",
   "execution_count": 51,
   "metadata": {
    "collapsed": false
   },
   "outputs": [
    {
     "ename": "KeyboardInterrupt",
     "evalue": "",
     "output_type": "error",
     "traceback": [
      "\u001b[1;31m---------------------------------------------------------------------------\u001b[0m",
      "\u001b[1;31mKeyboardInterrupt\u001b[0m                         Traceback (most recent call last)",
      "\u001b[1;32m<ipython-input-51-f5a963f35f8a>\u001b[0m in \u001b[0;36m<module>\u001b[1;34m()\u001b[0m\n\u001b[0;32m      3\u001b[0m \u001b[0mligand_water_files\u001b[0m \u001b[1;33m=\u001b[0m \u001b[0msorted\u001b[0m\u001b[1;33m(\u001b[0m\u001b[0mglob\u001b[0m\u001b[1;33m.\u001b[0m\u001b[0mglob\u001b[0m\u001b[1;33m(\u001b[0m\u001b[1;34m\"/scratch/PI/rondror/akma327/DynamicNetworks/data/DynamicNetworksOutput/InteractionOutputDictionary\"\u001b[0m \u001b[1;33m+\u001b[0m \u001b[1;34m\"/*/*/rep*/0505*/ligand_water_hydrogen_bond_result_dict.txt\"\u001b[0m\u001b[1;33m)\u001b[0m\u001b[1;33m)\u001b[0m\u001b[1;33m\u001b[0m\u001b[0m\n\u001b[0;32m      4\u001b[0m \u001b[1;32mfor\u001b[0m \u001b[0mi\u001b[0m\u001b[1;33m,\u001b[0m \u001b[0mBIN_DICT_FILE\u001b[0m \u001b[1;32min\u001b[0m \u001b[0menumerate\u001b[0m\u001b[1;33m(\u001b[0m\u001b[0mligand_water_files\u001b[0m\u001b[1;33m)\u001b[0m\u001b[1;33m:\u001b[0m\u001b[1;33m\u001b[0m\u001b[0m\n\u001b[1;32m----> 5\u001b[1;33m     \u001b[0mcalc_ligand_wetness\u001b[0m\u001b[1;33m(\u001b[0m\u001b[0mfw\u001b[0m\u001b[1;33m,\u001b[0m \u001b[0mBIN_DICT_FILE\u001b[0m\u001b[1;33m)\u001b[0m\u001b[1;33m\u001b[0m\u001b[0m\n\u001b[0m",
      "\u001b[1;32m<ipython-input-46-2ba2a19600a1>\u001b[0m in \u001b[0;36mcalc_ligand_wetness\u001b[1;34m(fw, BIN_DICT_FILE)\u001b[0m\n\u001b[0;32m     20\u001b[0m                 \u001b[0mligand_part_to_frames\u001b[0m\u001b[1;33m[\u001b[0m\u001b[0mligand\u001b[0m\u001b[1;33m]\u001b[0m \u001b[1;33m=\u001b[0m \u001b[0mtp\u001b[0m\u001b[1;33m\u001b[0m\u001b[0m\n\u001b[0;32m     21\u001b[0m             \u001b[1;32melse\u001b[0m\u001b[1;33m:\u001b[0m\u001b[1;33m\u001b[0m\u001b[0m\n\u001b[1;32m---> 22\u001b[1;33m                 \u001b[0mligand_part_to_frames\u001b[0m\u001b[1;33m[\u001b[0m\u001b[0mligand\u001b[0m\u001b[1;33m]\u001b[0m \u001b[1;33m|=\u001b[0m \u001b[0mtp\u001b[0m\u001b[1;33m\u001b[0m\u001b[0m\n\u001b[0m\u001b[0;32m     23\u001b[0m \u001b[1;33m\u001b[0m\u001b[0m\n\u001b[0;32m     24\u001b[0m     \u001b[1;31m### Ligand Wetness\u001b[0m\u001b[1;33m\u001b[0m\u001b[1;33m\u001b[0m\u001b[0m\n",
      "\u001b[1;31mKeyboardInterrupt\u001b[0m: "
     ]
    }
   ],
   "source": [
    "OUTPUT_FILE = \"/scratch/PI/rondror/akma327/DynamicNetworks/data/crystal-analysis/ligand-wetness/ligand_wetness.txt\"\n",
    "fw = open(OUTPUT_FILE, 'w')\n",
    "ligand_water_files = sorted(glob.glob(\"/scratch/PI/rondror/akma327/DynamicNetworks/data/DynamicNetworksOutput/InteractionOutputDictionary\" + \"/*/*/rep*/0505*/ligand_water_hydrogen_bond_result_dict.txt\"))\n",
    "for i, BIN_DICT_FILE in enumerate(ligand_water_files):\n",
    "    calc_ligand_wetness(fw, BIN_DICT_FILE)\n"
   ]
  },
  {
   "cell_type": "code",
   "execution_count": null,
   "metadata": {
    "collapsed": true
   },
   "outputs": [],
   "source": []
  }
 ],
 "metadata": {
  "kernelspec": {
   "display_name": "Python 2",
   "language": "python",
   "name": "python2"
  },
  "language_info": {
   "codemirror_mode": {
    "name": "ipython",
    "version": 2
   },
   "file_extension": ".py",
   "mimetype": "text/x-python",
   "name": "python",
   "nbconvert_exporter": "python",
   "pygments_lexer": "ipython2",
   "version": "2.7.11"
  }
 },
 "nbformat": 4,
 "nbformat_minor": 0
}
