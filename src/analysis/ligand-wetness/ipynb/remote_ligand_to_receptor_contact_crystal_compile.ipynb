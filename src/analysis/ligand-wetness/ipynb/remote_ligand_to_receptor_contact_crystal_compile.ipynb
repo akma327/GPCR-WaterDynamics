{
 "cells": [
  {
   "cell_type": "code",
   "execution_count": 1,
   "metadata": {
    "collapsed": true
   },
   "outputs": [],
   "source": [
    "import glob"
   ]
  },
  {
   "cell_type": "code",
   "execution_count": 2,
   "metadata": {
    "collapsed": false
   },
   "outputs": [],
   "source": [
    "def compile_tables(INPUT_DIR, OUTPUT_FILE):\n",
    "    files = sorted(glob.glob(INPUT_DIR + \"/*\"))\n",
    "    pdb_to_contacts = {}\n",
    "    column_headers = []\n",
    "    for fn in files:\n",
    "        \n",
    "        pdb = fn.split(\"/\")[-1].strip(\".txt\")\n",
    "        column_headers.append(pdb)\n",
    "        extended_contacts = []\n",
    "        f = open(fn, 'r')\n",
    "        for line in f:\n",
    "            extended_contacts.append(line.strip())\n",
    "        \n",
    "        pdb_to_contacts[pdb] = extended_contacts\n",
    "    \n",
    "    ### Unionize keys\n",
    "    unioned_keys = set()\n",
    "    for pdb in pdb_to_contacts:\n",
    "        unioned_keys |= set(pdb_to_contacts[pdb])\n",
    "    \n",
    "    ### Write out row data\n",
    "    f = open(OUTPUT_FILE, 'w')\n",
    "    header = \"LIGxLIG:GPCRDB1:GPCRDB2\\t\" + \"\\t\".join(column_headers) + \"\\n\"\n",
    "    f.write(header)\n",
    "    for key in unioned_keys:\n",
    "        row_info = [key]\n",
    "        for pdb in column_headers:\n",
    "            if(key in pdb_to_contacts[pdb]):\n",
    "                row_info.append(1)\n",
    "            else:\n",
    "                row_info.append(0)\n",
    "    \n",
    "        f.write(\"\\t\".join(map(str, row_info)) + \"\\n\")\n",
    "    \n",
    "    \n"
   ]
  },
  {
   "cell_type": "code",
   "execution_count": 3,
   "metadata": {
    "collapsed": false
   },
   "outputs": [],
   "source": [
    "HIGHRES_CRYSTAL=\"/scratch/PI/rondror/akma327/DynamicNetworks/data/crystal-analysis/ligand-wetness/remote_ligand_to_receptor_contacts_crystal/021617/remote-contacts\"\n",
    "OUTPUT_FILE=\"/scratch/PI/rondror/akma327/DynamicNetworks/data/crystal-analysis/ligand-wetness/remote_ligand_to_receptor_contacts_crystal/021617/remote_ligand_to_receptor_contacts_crystal.txt\"\n",
    "compile_tables(HIGHRES_CRYSTAL, OUTPUT_FILE)"
   ]
  },
  {
   "cell_type": "code",
   "execution_count": null,
   "metadata": {
    "collapsed": true
   },
   "outputs": [],
   "source": []
  }
 ],
 "metadata": {
  "kernelspec": {
   "display_name": "Python 2",
   "language": "python",
   "name": "python2"
  },
  "language_info": {
   "codemirror_mode": {
    "name": "ipython",
    "version": 2
   },
   "file_extension": ".py",
   "mimetype": "text/x-python",
   "name": "python",
   "nbconvert_exporter": "python",
   "pygments_lexer": "ipython2",
   "version": "2.7.11"
  }
 },
 "nbformat": 4,
 "nbformat_minor": 0
}
