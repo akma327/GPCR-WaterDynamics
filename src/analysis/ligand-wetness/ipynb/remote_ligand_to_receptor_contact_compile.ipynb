{
 "cells": [
  {
   "cell_type": "code",
   "execution_count": 1,
   "metadata": {
    "collapsed": true
   },
   "outputs": [],
   "source": [
    "import glob\n",
    "import numpy as np\n",
    "import pandas as pd"
   ]
  },
  {
   "cell_type": "code",
   "execution_count": 2,
   "metadata": {
    "collapsed": false
   },
   "outputs": [],
   "source": [
    "def get_pos_freq_dict(fn):\n",
    "    f = open(fn, 'r')\n",
    "    pos_freq_dict = {}\n",
    "    for line in f:\n",
    "        linfo = line.strip().split(\"\\t\")\n",
    "        pos_freq_dict[linfo[0]] = float(linfo[1])\n",
    "    return pos_freq_dict\n",
    "\n",
    "def compile_tables(INPUT_DIR, OUTPUT_FILE, THRESHOLD=0.25):\n",
    "    \n",
    "    exp_cond_data = {}\n",
    "    column_headers = []\n",
    "    files = sorted(glob.glob(INPUT_DIR + \"/*\"))\n",
    "    \n",
    "    for fn in files:\n",
    "        if(\"remote\" in fn.split(\"/\")[-1]):continue\n",
    "        exp_name = fn.split(\"/\")[-1].split(\".\")[0]\n",
    "        column_headers.append(exp_name)\n",
    "        pos_freq_dict = get_pos_freq_dict(fn)\n",
    "        exp_cond_data[exp_name] =  pos_freq_dict\n",
    "\n",
    "    ### Union keys\n",
    "    unioned_keys = set()\n",
    "    for exp_name in exp_cond_data:\n",
    "        pos_freq_dict = exp_cond_data[exp_name]\n",
    "        unioned_keys |= set(pos_freq_dict.keys())\n",
    "\n",
    "    ### Filter and write out data\n",
    "    f = open(OUTPUT_FILE, 'w')\n",
    "    f.write(\"LIGxLIG:GPCRDB1:GPCRDB2\\t\" + \"\\t\".join(column_headers) + \"\\n\")\n",
    "    row_string_tup = []\n",
    "    for key in unioned_keys:\n",
    "        row_info = [key]\n",
    "        for exp_name in column_headers:\n",
    "            pos_freq_dict = exp_cond_data[exp_name]\n",
    "            if(key in pos_freq_dict):\n",
    "                row_info.append(pos_freq_dict[key])\n",
    "            else:\n",
    "                row_info.append(0)\n",
    "        if(np.mean(row_info[1:]) > THRESHOLD):\n",
    "            f.write(\"\\t\".join(map(str,row_info)) + \"\\n\")\n"
   ]
  },
  {
   "cell_type": "code",
   "execution_count": 3,
   "metadata": {
    "collapsed": false
   },
   "outputs": [],
   "source": [
    "INACTIVE_RECEPTORS=\"/scratch/PI/rondror/akma327/DynamicNetworks/data/crystal-analysis/ligand-wetness/remote_ligand_to_receptor_contacts/021617/inactive_receptors\"\n",
    "OUTPUT_FILE=\"/scratch/PI/rondror/akma327/DynamicNetworks/data/crystal-analysis/ligand-wetness/remote_ligand_to_receptor_contacts/021617/inactive_receptors/remote_ligand_to_receptor_contacts_inactive_receptors.txt\"\n",
    "compile_tables(INACTIVE_RECEPTORS, OUTPUT_FILE)"
   ]
  },
  {
   "cell_type": "code",
   "execution_count": 4,
   "metadata": {
    "collapsed": false
   },
   "outputs": [],
   "source": [
    "ACTIVE_RECEPTORS=\"/scratch/PI/rondror/akma327/DynamicNetworks/data/crystal-analysis/ligand-wetness/remote_ligand_to_receptor_contacts/021617/active_receptors\"\n",
    "OUTPUT_FILE=\"/scratch/PI/rondror/akma327/DynamicNetworks/data/crystal-analysis/ligand-wetness/remote_ligand_to_receptor_contacts/021617/active_receptors/remote_ligand_to_receptor_contacts_active_receptors.txt\"\n",
    "compile_tables(ACTIVE_RECEPTORS, OUTPUT_FILE)"
   ]
  },
  {
   "cell_type": "code",
   "execution_count": null,
   "metadata": {
    "collapsed": true
   },
   "outputs": [],
   "source": []
  }
 ],
 "metadata": {
  "kernelspec": {
   "display_name": "Python 2",
   "language": "python",
   "name": "python2"
  },
  "language_info": {
   "codemirror_mode": {
    "name": "ipython",
    "version": 2
   },
   "file_extension": ".py",
   "mimetype": "text/x-python",
   "name": "python",
   "nbconvert_exporter": "python",
   "pygments_lexer": "ipython2",
   "version": "2.7.11"
  }
 },
 "nbformat": 4,
 "nbformat_minor": 0
}
